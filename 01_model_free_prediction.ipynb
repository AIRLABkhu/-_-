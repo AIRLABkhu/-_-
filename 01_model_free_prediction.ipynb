{
  "cells": [
    {
      "cell_type": "markdown",
      "id": "c931656b",
      "metadata": {
        "id": "c931656b"
      },
      "source": [
        "# 필수 라이브러리 설치"
      ]
    },
    {
      "cell_type": "code",
      "execution_count": null,
      "id": "1bfc3a3d",
      "metadata": {
        "id": "1bfc3a3d"
      },
      "outputs": [],
      "source": [
        "import random\n",
        "import numpy as np"
      ]
    },
    {
      "cell_type": "markdown",
      "id": "829adf61",
      "metadata": {
        "id": "829adf61"
      },
      "source": [
        "# Grid World"
      ]
    },
    {
      "cell_type": "markdown",
      "source": [
        "![image.png](data:image/png;base64,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)"
      ],
      "metadata": {
        "id": "8ycYK3QdUD6e"
      },
      "id": "8ycYK3QdUD6e"
    },
    {
      "cell_type": "code",
      "execution_count": null,
      "id": "10223069",
      "metadata": {
        "id": "10223069"
      },
      "outputs": [],
      "source": [
        "# model 설정\n",
        "# 4x4, state는 (x, y), H:hole, G:goal\n",
        "# reward: goal:1 이며 나머지는 0\n",
        "#\n",
        "#     0  1  2  3\n",
        "#     4  H  6  H\n",
        "#     8  9 10  H\n",
        "#     H 12 13  G\n",
        "#\n",
        "class GridWorld():\n",
        "    def __init__(self):\n",
        "        self.x = 0\n",
        "        self.y = 0\n",
        "\n",
        "    def step(self, a):\n",
        "        # 0번 액션: 왼쪽, 1번 액션: 위, 2번 액션: 오른쪽, 3번 액션: 아래쪽\n",
        "        if a == 0:\n",
        "            self.move_left()\n",
        "        elif a == 1:\n",
        "            self.move_down()\n",
        "        elif a == 2:\n",
        "            self.move_right()\n",
        "        elif a == 3:\n",
        "            self.move_up()\n",
        "\n",
        "        if self.x == 3 and self.y == 3:\n",
        "            reward = 1\n",
        "        else:\n",
        "            reward = 0\n",
        "\n",
        "        done = self.is_done()\n",
        "        return (self.x, self.y), reward, done\n",
        "\n",
        "    # 움직임 정의\n",
        "    def move_down(self):\n",
        "        self.y += 1\n",
        "        if self.y > 3:\n",
        "            self.y = 3\n",
        "\n",
        "    def move_up(self):\n",
        "        self.y -= 1\n",
        "        if self.y < 0:\n",
        "            self.y = 0\n",
        "\n",
        "    def move_left(self):\n",
        "        self.x -= 1\n",
        "        if self.x < 0:\n",
        "            self.x = 0\n",
        "\n",
        "    def move_right(self):\n",
        "        self.x += 1\n",
        "        if self.x > 3:\n",
        "            self.x = 3\n",
        "\n",
        "    def is_done(self):\n",
        "        if self.x == 3 and self.y == 3:\n",
        "            return True\n",
        "        elif self.x == 0 and self.y == 3:\n",
        "            return True\n",
        "        elif self.x == 1 and self.y == 1:\n",
        "            return True\n",
        "        elif self.x == 3 and self.y == 1:\n",
        "            return True\n",
        "        elif self.x == 3 and self.y == 2:\n",
        "            return True\n",
        "        else:\n",
        "            return False\n",
        "\n",
        "    def get_state(self):\n",
        "        return (self.x, self.y)\n",
        "\n",
        "    def reset(self):\n",
        "        self.x = 0\n",
        "        self.y = 0\n",
        "        return (self.x, self.y)"
      ]
    },
    {
      "cell_type": "markdown",
      "id": "f271578d",
      "metadata": {
        "id": "f271578d"
      },
      "source": [
        "# Agent"
      ]
    },
    {
      "cell_type": "code",
      "execution_count": null,
      "id": "c01695ed",
      "metadata": {
        "id": "c01695ed"
      },
      "outputs": [],
      "source": [
        "class Agent():\n",
        "    def __init__(self):\n",
        "        pass\n",
        "\n",
        "    def select_action(self):\n",
        "        coin = random.random()\n",
        "        if coin < 0.25:\n",
        "            action = 0\n",
        "        elif coin < 0.5:\n",
        "            action = 1\n",
        "        elif coin < 0.75:\n",
        "            action = 2\n",
        "        else:\n",
        "            action = 3\n",
        "        return action"
      ]
    },
    {
      "cell_type": "markdown",
      "id": "11a754c1",
      "metadata": {
        "id": "11a754c1"
      },
      "source": [
        "# Monte Carlo"
      ]
    },
    {
      "cell_type": "markdown",
      "source": [
        "![image.png](data:image/png;base64,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)"
      ],
      "metadata": {
        "id": "g-bnpUsxbdS8"
      },
      "id": "g-bnpUsxbdS8"
    },
    {
      "cell_type": "code",
      "execution_count": null,
      "id": "46e8d828",
      "metadata": {
        "id": "46e8d828"
      },
      "outputs": [],
      "source": [
        "def mc():\n",
        "    env = GridWorld()\n",
        "    agent = Agent()\n",
        "    V = [[0,0,0,0],[0,0,0,0],[0,0,0,0],[0,0,0,0]]\n",
        "    gamma = 1.0\n",
        "    alpha = 0.001\n",
        "\n",
        "    for k in range(50000):\n",
        "        done = False\n",
        "        history = []\n",
        "\n",
        "        while not done:\n",
        "            action = agent.select_action()\n",
        "            (x, y), reward, done = env.step(action)\n",
        "            history.append((x, y, reward))\n",
        "        env.reset()\n",
        "\n",
        "        cum_reward = 0\n",
        "        for transition in history[::-1]:\n",
        "            x, y, reward = transition\n",
        "            V[y][x] = V[y][x] + alpha * (cum_reward - V[y][x])\n",
        "            cum_reward = reward + gamma * cum_reward\n",
        "    print('MC prediction')\n",
        "    for row in range(len(V)):\n",
        "        for col in range(len(V[row])):\n",
        "            print('%4.4f '%V[row][col], end='   ')\n",
        "        print('')"
      ]
    },
    {
      "cell_type": "markdown",
      "id": "fe67a5e3",
      "metadata": {
        "id": "fe67a5e3"
      },
      "source": [
        "# Temporal Difference"
      ]
    },
    {
      "cell_type": "markdown",
      "source": [
        "![image.png](data:image/png;base64,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)"
      ],
      "metadata": {
        "id": "2jFQyy66biCJ"
      },
      "id": "2jFQyy66biCJ"
    },
    {
      "cell_type": "code",
      "execution_count": null,
      "id": "8d6d7465",
      "metadata": {
        "id": "8d6d7465"
      },
      "outputs": [],
      "source": [
        "def td():\n",
        "    # TD\n",
        "    env = GridWorld()\n",
        "    agent = Agent()\n",
        "    V = [[0, 0, 0, 0], [0, 0, 0, 0], [0, 0, 0, 0], [0, 0, 0, 0]]\n",
        "    gamma = 1.0\n",
        "    reward = -1\n",
        "    alpha = 0.01\n",
        "\n",
        "    for k in range(50000):\n",
        "        done = False\n",
        "        while not done:\n",
        "            x, y = env.get_state()\n",
        "            action = agent.select_action()\n",
        "            (x_prime, y_prime), reward, done = env.step(action)\n",
        "            x_prime, y_prime = env.get_state()\n",
        "            V[y][x] = V[y][x] + alpha * (reward + gamma * V[y_prime][x_prime] - V[y][x])\n",
        "        env.reset()\n",
        "\n",
        "    print('TD prediction')\n",
        "    for row in range(len(V)):\n",
        "        for col in range(len(V[row])):\n",
        "            print('%4.4f '%V[row][col], end='   ')\n",
        "        print('')"
      ]
    },
    {
      "cell_type": "markdown",
      "id": "49b1e28f",
      "metadata": {
        "id": "49b1e28f"
      },
      "source": [
        "# Main"
      ]
    },
    {
      "cell_type": "code",
      "execution_count": null,
      "id": "b78a9057",
      "metadata": {
        "id": "b78a9057"
      },
      "outputs": [],
      "source": [
        "if __name__ == '__main__':\n",
        "    mc()\n",
        "    td()"
      ]
    }
  ],
  "metadata": {
    "kernelspec": {
      "display_name": "Python 3",
      "language": "python",
      "name": "python3"
    },
    "language_info": {
      "codemirror_mode": {
        "name": "ipython",
        "version": 3
      },
      "file_extension": ".py",
      "mimetype": "text/x-python",
      "name": "python",
      "nbconvert_exporter": "python",
      "pygments_lexer": "ipython3",
      "version": "3.8.8"
    },
    "colab": {
      "name": "01.model_free_prediction.ipynb",
      "provenance": []
    }
  },
  "nbformat": 4,
  "nbformat_minor": 5
}