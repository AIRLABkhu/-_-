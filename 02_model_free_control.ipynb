{
  "cells": [
    {
      "cell_type": "markdown",
      "id": "c931656b",
      "metadata": {
        "id": "c931656b"
      },
      "source": [
        "# 필수 라이브러리 설치"
      ]
    },
    {
      "cell_type": "code",
      "execution_count": null,
      "id": "1bfc3a3d",
      "metadata": {
        "id": "1bfc3a3d"
      },
      "outputs": [],
      "source": [
        "import random\n",
        "import numpy as np"
      ]
    },
    {
      "cell_type": "markdown",
      "id": "829adf61",
      "metadata": {
        "id": "829adf61"
      },
      "source": [
        "# Grid World"
      ]
    },
    {
      "cell_type": "markdown",
      "source": [
        "![image.png](data:image/png;base64,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)"
      ],
      "metadata": {
        "id": "298vm7Y6UHJv"
      },
      "id": "298vm7Y6UHJv"
    },
    {
      "cell_type": "code",
      "execution_count": null,
      "id": "10223069",
      "metadata": {
        "id": "10223069"
      },
      "outputs": [],
      "source": [
        "# model 설정\n",
        "# 4x4, state는 (x, y), H:hole, G:goal\n",
        "# reward: goal:1 이며 나머지는 0\n",
        "#\n",
        "#     0  1  2  3\n",
        "#     4  H  6  H\n",
        "#     8  9 10  H\n",
        "#     H 12 13  G\n",
        "#\n",
        "class GridWorld():\n",
        "    def __init__(self):\n",
        "        self.x = 0\n",
        "        self.y = 0\n",
        "\n",
        "    def step(self, a):\n",
        "        # 0번 액션: 왼쪽, 1번 액션: 위, 2번 액션: 오른쪽, 3번 액션: 아래쪽\n",
        "        if a == 0:\n",
        "            self.move_left()\n",
        "        elif a == 1:\n",
        "            self.move_down()\n",
        "        elif a == 2:\n",
        "            self.move_right()\n",
        "        elif a == 3:\n",
        "            self.move_up()\n",
        "\n",
        "        if self.x == 3 and self.y == 3:\n",
        "            reward = 1\n",
        "        else:\n",
        "            reward = 0\n",
        "\n",
        "        done = self.is_done()\n",
        "        return (self.x, self.y), reward, done\n",
        "\n",
        "    # 움직임 정의\n",
        "    def move_down(self):\n",
        "        self.y += 1\n",
        "        if self.y > 3:\n",
        "            self.y = 3\n",
        "\n",
        "    def move_up(self):\n",
        "        self.y -= 1\n",
        "        if self.y < 0:\n",
        "            self.y = 0\n",
        "\n",
        "    def move_left(self):\n",
        "        self.x -= 1\n",
        "        if self.x < 0:\n",
        "            self.x = 0\n",
        "\n",
        "    def move_right(self):\n",
        "        self.x += 1\n",
        "        if self.x > 3:\n",
        "            self.x = 3\n",
        "\n",
        "    def is_done(self):\n",
        "        if self.x == 3 and self.y == 3:\n",
        "            return True\n",
        "        elif self.x == 0 and self.y == 3:\n",
        "            return True\n",
        "        elif self.x == 1 and self.y == 1:\n",
        "            return True\n",
        "        elif self.x == 3 and self.y == 1:\n",
        "            return True\n",
        "        elif self.x == 3 and self.y == 2:\n",
        "            return True\n",
        "        else:\n",
        "            return False\n",
        "\n",
        "    def get_state(self):\n",
        "        return (self.x, self.y)\n",
        "\n",
        "    def reset(self):\n",
        "        self.x = 0\n",
        "        self.y = 0\n",
        "        return (self.x, self.y)"
      ]
    },
    {
      "cell_type": "markdown",
      "id": "f271578d",
      "metadata": {
        "id": "f271578d"
      },
      "source": [
        "# Agent"
      ]
    },
    {
      "cell_type": "code",
      "execution_count": null,
      "id": "c01695ed",
      "metadata": {
        "id": "c01695ed"
      },
      "outputs": [],
      "source": [
        "class QAgent():\n",
        "    def __init__(self):\n",
        "        self.q_table = np.zeros((4, 4, 4))  # q벨류를 저장하는 변수. 모두 0으로 초기화.\n",
        "        self.eps = 0.8\n",
        "        self.alpha = 0.01\n",
        "        self.ran = np.zeros((1,2))\n",
        "        self.rand2 = np.zeros((1,4))\n",
        "\n",
        "    def print_rands(self):\n",
        "        print(self.ran)\n",
        "        print(self.rand2)\n",
        "\n",
        "    def select_action(self, s):\n",
        "        # eps-greedy로 액션을 선택\n",
        "        x, y = s\n",
        "        coin = random.random()\n",
        "        if coin < self.eps:\n",
        "            action = random.randint(0, 3)\n",
        "            self.ran[0,0] = self.ran[0,0] + 1\n",
        "            self.rand2[0,action] = self.rand2[0,action] + 1\n",
        "        else:\n",
        "            action_val = self.q_table[y, x, :]\n",
        "            action = np.argmax(action_val)\n",
        "            self.ran[0, 1] = self.ran[0, 1] + 1\n",
        "        return action\n",
        "\n",
        "    def update_table_mc(self, history):\n",
        "        # 한 에피소드에 해당하는 history를 입력으로 받아 q 테이블의 값을 업데이트 한다\n",
        "        cum_reward = 0\n",
        "        for transition in history[::-1]:\n",
        "            # print(transition)\n",
        "            s, a, r, s_prime = transition\n",
        "            x, y = s\n",
        "\n",
        "            cum_reward = cum_reward + r\n",
        "\n",
        "            # 몬테 카를로 방식을 이용하여 업데이트.\n",
        "            self.q_table[y, x, a] = self.q_table[y, x, a] + self.alpha * (cum_reward - self.q_table[y, x, a])\n",
        "\n",
        "\n",
        "    def update_table_sarsa(self, transition):\n",
        "        s, a, r, s_prime = transition\n",
        "        x, y = s\n",
        "        next_x, next_y = s_prime\n",
        "        a_prime = self.select_action(s_prime)  # S'에서 선택할 액션 (실제로 취한 액션이 아님)\n",
        "        self.q_table[y, x, a] = self.q_table[y, x, a] + 0.1 * (\n",
        "                    r + self.q_table[next_y, next_x, a_prime] - self.q_table[y, x, a])\n",
        "\n",
        "    def update_table_qlearning(self, transition):\n",
        "        s, a, r, s_prime = transition\n",
        "        x, y = s\n",
        "        next_x, next_y = s_prime\n",
        "        a_prime = self.select_action(s_prime)  # S'에서 선택할 액션 (실제로 취한 액션이 아님)\n",
        "        self.q_table[y, x, a] = self.q_table[y, x, a] + 0.1 * (\n",
        "                    r + np.amax(self.q_table[next_y, next_x, :]) - self.q_table[y, x, a])\n",
        "\n",
        "\n",
        "\n",
        "    def anneal_eps(self):\n",
        "        self.eps -= 0.001\n",
        "        self.eps = max(self.eps, 0.1)\n",
        "\n",
        "    def show_table(self):\n",
        "        # 학습이 각 위치에서 어느 액션의 q 값이 가장 높았는지 보여주는 함수\n",
        "        q_lst = self.q_table.tolist()\n",
        "        data = np.zeros((4, 4))\n",
        "        for row_idx in range(len(q_lst)):\n",
        "            row = q_lst[row_idx]\n",
        "            for col_idx in range(len(row)):\n",
        "                col = row[col_idx]\n",
        "                action = np.argmax(col)\n",
        "                data[row_idx, col_idx] = action\n",
        "        print(data)\n",
        "\n",
        "    def show_table2(self):\n",
        "        # 학습이 각 위치에서 어느 액션의 q 값이 가장 높았는지 보여주는 함수\n",
        "        max_idx = np.argmax(self.q_table, axis=2)\n",
        "        print(max_idx)\n",
        "        for r in range(4):\n",
        "            for c in range(4):\n",
        "                # print('%d %d'%(r,c))\n",
        "                # print(self.q_table[r,c,:])\n",
        "                if c == 3 and r == 3:\n",
        "                    str = 'G'\n",
        "                elif c == 0 and r == 3:\n",
        "                    str = 'X'\n",
        "                elif c == 1 and r == 1:\n",
        "                    str = 'X'\n",
        "                elif c == 3 and r == 1:\n",
        "                    str = 'X'\n",
        "                elif c == 3 and r == 2:\n",
        "                    str = 'X'\n",
        "                else:\n",
        "                    if max_idx[r][c] == 0:\n",
        "                        str = '<'\n",
        "                    elif max_idx[r][c] == 1:\n",
        "                        str = 'v'\n",
        "                    elif max_idx[r][c] == 2:\n",
        "                        str = '>'\n",
        "                    elif max_idx[r][c] == 3:\n",
        "                        str = '^'\n",
        "                print('%03s  '%str, end='')\n",
        "            print('')"
      ]
    },
    {
      "cell_type": "markdown",
      "id": "11a754c1",
      "metadata": {
        "id": "11a754c1"
      },
      "source": [
        "# Monte Carlo"
      ]
    },
    {
      "cell_type": "markdown",
      "source": [
        "![image.png](data:image/png;base64,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)"
      ],
      "metadata": {
        "id": "PLS1lFlmb37i"
      },
      "id": "PLS1lFlmb37i"
    },
    {
      "cell_type": "code",
      "execution_count": null,
      "id": "46e8d828",
      "metadata": {
        "id": "46e8d828"
      },
      "outputs": [],
      "source": [
        "def mc():\n",
        "    env = GridWorld()\n",
        "    agent = QAgent()\n",
        "\n",
        "    for n_epi in range(10000):  # 총 1,000 에피소드 동안 학습\n",
        "        done = False\n",
        "        history = []\n",
        "\n",
        "        s = env.reset()\n",
        "\n",
        "        while not done:  # 한 에피소드가 끝날 때 까지\n",
        "            a = agent.select_action(s)\n",
        "            s_prime, r, done = env.step(a)\n",
        "            history.append((s, a, r, s_prime))\n",
        "            s = s_prime\n",
        "\n",
        "        agent.update_table_mc(history)  # 히스토리를 이용하여 에이전트를 업데이트\n",
        "        agent.anneal_eps()\n",
        "\n",
        "    agent.print_rands()\n",
        "    agent.show_table()  # 학습이 끝난 결과를 출력\n",
        "    agent.show_table2()  # 학습이 끝난 결과를 출력"
      ]
    },
    {
      "cell_type": "markdown",
      "id": "fe67a5e3",
      "metadata": {
        "id": "fe67a5e3"
      },
      "source": [
        "# SARSA"
      ]
    },
    {
      "cell_type": "markdown",
      "source": [
        "![image.png](data:image/png;base64,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)"
      ],
      "metadata": {
        "id": "rNy6MzpEc9A3"
      },
      "id": "rNy6MzpEc9A3"
    },
    {
      "cell_type": "code",
      "execution_count": null,
      "id": "8d6d7465",
      "metadata": {
        "id": "8d6d7465"
      },
      "outputs": [],
      "source": [
        "def sarsa():\n",
        "    env = GridWorld()\n",
        "    agent = QAgent()\n",
        "\n",
        "    for n_epi in range(10000):  # 총 1,000 에피소드 동안 학습\n",
        "        done = False\n",
        "        history = []\n",
        "\n",
        "        s = env.reset()\n",
        "\n",
        "        while not done:  # 한 에피소드가 끝날 때 까지\n",
        "            a = agent.select_action(s)\n",
        "            s_prime, r, done = env.step(a)\n",
        "            agent.update_table_sarsa((s,a,r,s_prime))  # 히스토리를 이용하여 에이전트를 업데이트\n",
        "            s = s_prime\n",
        "        agent.anneal_eps()\n",
        "\n",
        "    agent.print_rands()\n",
        "    agent.show_table()  # 학습이 끝난 결과를 출력\n",
        "    agent.show_table2()  # 학습이 끝난 결과를 출력"
      ]
    },
    {
      "cell_type": "markdown",
      "id": "33fd437e",
      "metadata": {
        "id": "33fd437e"
      },
      "source": [
        "# Q-Learning"
      ]
    },
    {
      "cell_type": "markdown",
      "source": [
        "![image.png](data:image/png;base64,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)"
      ],
      "metadata": {
        "id": "qx-yF84ude-V"
      },
      "id": "qx-yF84ude-V"
    },
    {
      "cell_type": "code",
      "execution_count": null,
      "id": "10956fb6",
      "metadata": {
        "id": "10956fb6"
      },
      "outputs": [],
      "source": [
        "def Qlearning():\n",
        "    env = GridWorld()\n",
        "    agent = QAgent()\n",
        "\n",
        "    for n_epi in range(10000):  # 총 1,000 에피소드 동안 학습\n",
        "        done = False\n",
        "        history = []\n",
        "\n",
        "        s = env.reset()\n",
        "\n",
        "        while not done:  # 한 에피소드가 끝날 때 까지\n",
        "            a = agent.select_action(s)\n",
        "            s_prime, r, done = env.step(a)\n",
        "            agent.update_table_qlearning((s,a,r,s_prime))  # 히스토리를 이용하여 에이전트를 업데이트\n",
        "            s = s_prime\n",
        "        agent.anneal_eps()\n",
        "\n",
        "    agent.print_rands()\n",
        "    agent.show_table()  # 학습이 끝난 결과를 출력\n",
        "    agent.show_table2()  # 학습이 끝난 결과를 출력\n"
      ]
    },
    {
      "cell_type": "markdown",
      "id": "49b1e28f",
      "metadata": {
        "id": "49b1e28f"
      },
      "source": [
        "# Main"
      ]
    },
    {
      "cell_type": "code",
      "execution_count": null,
      "id": "b78a9057",
      "metadata": {
        "id": "b78a9057"
      },
      "outputs": [],
      "source": [
        "if __name__ == '__main__':\n",
        "    #mc()\n",
        "    #sarsa()\n",
        "    Qlearning()"
      ]
    }
  ],
  "metadata": {
    "kernelspec": {
      "display_name": "Python 3",
      "language": "python",
      "name": "python3"
    },
    "language_info": {
      "codemirror_mode": {
        "name": "ipython",
        "version": 3
      },
      "file_extension": ".py",
      "mimetype": "text/x-python",
      "name": "python",
      "nbconvert_exporter": "python",
      "pygments_lexer": "ipython3",
      "version": "3.8.8"
    },
    "colab": {
      "name": "02.model_free_control.ipynb",
      "provenance": []
    }
  },
  "nbformat": 4,
  "nbformat_minor": 5
}