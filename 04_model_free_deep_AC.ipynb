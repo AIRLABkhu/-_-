{
  "cells": [
    {
      "cell_type": "markdown",
      "id": "c931656b",
      "metadata": {
        "id": "c931656b"
      },
      "source": [
        "# 필수 라이브러리 설치"
      ]
    },
    {
      "cell_type": "code",
      "execution_count": null,
      "id": "1bfc3a3d",
      "metadata": {
        "id": "1bfc3a3d"
      },
      "outputs": [],
      "source": [
        "import random\n",
        "import numpy as np\n",
        "import torch\n",
        "import torch.nn as nn\n",
        "import torch.nn.functional as F\n",
        "import torch.optim as optim\n",
        "import collections\n",
        "from torch.distributions import Categorical\n",
        "import random"
      ]
    },
    {
      "cell_type": "markdown",
      "source": [
        "# Hyperparameters"
      ],
      "metadata": {
        "id": "o_jpjK7NwgbZ"
      },
      "id": "o_jpjK7NwgbZ"
    },
    {
      "cell_type": "code",
      "source": [
        "#Hyperparameters\n",
        "learning_rate = 5*1e-5\n",
        "gamma         = 0.99"
      ],
      "metadata": {
        "id": "Drrk1-xewgzJ"
      },
      "id": "Drrk1-xewgzJ",
      "execution_count": null,
      "outputs": []
    },
    {
      "cell_type": "markdown",
      "id": "829adf61",
      "metadata": {
        "id": "829adf61"
      },
      "source": [
        "# Grid World"
      ]
    },
    {
      "cell_type": "markdown",
      "source": [
        "![image.png](data:image/png;base64,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)"
      ],
      "metadata": {
        "id": "Gs8UzNreUJ68"
      },
      "id": "Gs8UzNreUJ68"
    },
    {
      "cell_type": "code",
      "execution_count": null,
      "id": "10223069",
      "metadata": {
        "id": "10223069"
      },
      "outputs": [],
      "source": [
        "# model 설정\n",
        "# 4x4, state는 (x, y), H:hole, G:goal\n",
        "# reward: goal:1 이며 나머지는 0\n",
        "#\n",
        "#     0  1  2  3\n",
        "#     4  H  6  H\n",
        "#     8  9 10  H\n",
        "#     H 12 13  G\n",
        "#\n",
        "class GridWorld():\n",
        "    def __init__(self):\n",
        "        self.x = 0\n",
        "        self.y = 0\n",
        "\n",
        "    def step(self, a):\n",
        "        # 0번 액션: 왼쪽, 1번 액션: 위, 2번 액션: 오른쪽, 3번 액션: 아래쪽\n",
        "        if a == 0:\n",
        "            self.move_left()\n",
        "        elif a == 1:\n",
        "            self.move_down()\n",
        "        elif a == 2:\n",
        "            self.move_right()\n",
        "        elif a == 3:\n",
        "            self.move_up()\n",
        "\n",
        "        if self.x == 3 and self.y == 3:\n",
        "            reward = 1\n",
        "        else:\n",
        "            reward = 0\n",
        "\n",
        "        done = self.is_done()\n",
        "        return (self.x, self.y), reward, done\n",
        "\n",
        "    def move_down(self):\n",
        "        self.y += 1\n",
        "        if self.y > 3:\n",
        "            self.y = 3\n",
        "\n",
        "    def move_up(self):\n",
        "        self.y -= 1\n",
        "        if self.y < 0:\n",
        "            self.y = 0\n",
        "\n",
        "    def move_left(self):\n",
        "        self.x -= 1\n",
        "        if self.x < 0:\n",
        "            self.x = 0\n",
        "\n",
        "    def move_right(self):\n",
        "        self.x += 1\n",
        "        if self.x > 3:\n",
        "            self.x = 3\n",
        "\n",
        "    def is_done(self):\n",
        "        if self.x == 3 and self.y == 3:\n",
        "            return True\n",
        "        elif self.x == 0 and self.y == 3:\n",
        "            return True\n",
        "        elif self.x == 1 and self.y == 1:\n",
        "            return True\n",
        "        elif self.x == 3 and self.y == 1:\n",
        "            return True\n",
        "        elif self.x == 3 and self.y == 2:\n",
        "            return True\n",
        "        else:\n",
        "            return False\n",
        "\n",
        "    def get_state(self):\n",
        "        return (self.x, self.y)\n",
        "\n",
        "    def reset(self):\n",
        "        # Random Initialize\n",
        "\n",
        "        start = [(0, 0), (1, 0), (2, 0), (3, 0), (0, 1), (2, 1), (2, 0), (2, 1), (2, 2), (3, 1), (3, 2)]\n",
        "        (self.x,self.y)=random.choice(start)\n",
        "        return (self.x, self.y)"
      ]
    },
    {
      "cell_type": "markdown",
      "source": [
        "# Network"
      ],
      "metadata": {
        "id": "au60CQ9Xw6Db"
      },
      "id": "au60CQ9Xw6Db"
    },
    {
      "cell_type": "code",
      "source": [
        "def identity(x):\n",
        "    \"\"\"Return input without any change.\"\"\"\n",
        "    return x\n",
        "\n",
        "\n",
        "class MLP(nn.Module):\n",
        "    def __init__(self,\n",
        "                 input_size,\n",
        "                 output_size,\n",
        "                 output_limit=1.0,\n",
        "                 hidden_sizes=(64, 64),\n",
        "                 activation=F.relu,\n",
        "                 output_activation=identity,\n",
        "                 use_output_layer=True,\n",
        "                 use_actor=False,\n",
        "                 ):\n",
        "        super(MLP, self).__init__()\n",
        "\n",
        "        self.input_size = input_size\n",
        "        self.output_size = output_size\n",
        "        self.output_limit = output_limit\n",
        "        self.hidden_sizes = hidden_sizes\n",
        "        self.activation = activation\n",
        "        self.output_activation = output_activation\n",
        "        self.use_output_layer = use_output_layer\n",
        "        self.use_actor = use_actor\n",
        "\n",
        "        # Set hidden layers\n",
        "        self.hidden_layers = nn.ModuleList()\n",
        "        in_size = self.input_size\n",
        "        for next_size in self.hidden_sizes:\n",
        "            fc = nn.Linear(in_size, next_size)\n",
        "            in_size = next_size\n",
        "            self.hidden_layers.append(fc)\n",
        "\n",
        "        # Set output layers\n",
        "        if self.use_output_layer:\n",
        "            self.output_layer = nn.Linear(in_size, self.output_size)\n",
        "        else:\n",
        "            self.output_layer = identity\n",
        "\n",
        "    def forward(self, x):\n",
        "        for hidden_layer in self.hidden_layers:\n",
        "            x = self.activation(hidden_layer(x))\n",
        "        x = self.output_activation(self.output_layer(x))\n",
        "        # If the network is used as actor network, make sure output is in correct range\n",
        "        x = x * self.output_limit if self.use_actor else x\n",
        "        return x"
      ],
      "metadata": {
        "id": "IcDck0E-w59t"
      },
      "id": "IcDck0E-w59t",
      "execution_count": null,
      "outputs": []
    },
    {
      "cell_type": "markdown",
      "source": [
        "# Train"
      ],
      "metadata": {
        "id": "HeLea9TqxBHh"
      },
      "id": "HeLea9TqxBHh"
    },
    {
      "cell_type": "markdown",
      "source": [
        "![image.png](data:image/png;base64,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)"
      ],
      "metadata": {
        "id": "njLxMQeQeZZi"
      },
      "id": "njLxMQeQeZZi"
    },
    {
      "cell_type": "code",
      "source": [
        "def train(transition,actor,critic,optimizer_actor,optimizer_critic):\n",
        "    log_pi, v, reward, next_obs, done_mask = transition\n",
        "\n",
        "    # Prediction V(s')\n",
        "    next_v = critic(torch.Tensor(next_obs))\n",
        "\n",
        "    # Target for Q regression\n",
        "    q = reward + gamma * done_mask * next_v\n",
        "\n",
        "    # Advantage = Q - V\n",
        "    advant = q - v\n",
        "\n",
        "    # A2C losses\n",
        "    policy_loss = -log_pi * advant.detach()\n",
        "    vf_loss = F.mse_loss(v, q.detach())\n",
        "\n",
        "    # Update value network parameter\n",
        "    optimizer_critic.zero_grad()\n",
        "    vf_loss.backward()\n",
        "    optimizer_critic.step()\n",
        "\n",
        "    # Update policy network parameter\n",
        "    optimizer_actor.zero_grad()\n",
        "    policy_loss.backward()\n",
        "    optimizer_actor.step()"
      ],
      "metadata": {
        "id": "r3lBWcJ9xBBf"
      },
      "id": "r3lBWcJ9xBBf",
      "execution_count": null,
      "outputs": []
    },
    {
      "cell_type": "markdown",
      "source": [
        "# Actor"
      ],
      "metadata": {
        "id": "bXsD4O3pxFXC"
      },
      "id": "bXsD4O3pxFXC"
    },
    {
      "cell_type": "code",
      "source": [
        "class Actor(MLP):\n",
        "    def forward(self, x):\n",
        "        x = super(Actor, self).forward(x)\n",
        "        pi = F.softmax(x, dim=-1)\n",
        "\n",
        "        dist = Categorical(pi)\n",
        "        action = dist.sample()\n",
        "        log_pi = dist.log_prob(action)\n",
        "        return action, pi, log_pi"
      ],
      "metadata": {
        "id": "H0LWXtLnxFRy"
      },
      "id": "H0LWXtLnxFRy",
      "execution_count": null,
      "outputs": []
    },
    {
      "cell_type": "markdown",
      "source": [
        "# Actor Critic"
      ],
      "metadata": {
        "id": "WS0kXaOgyRAK"
      },
      "id": "WS0kXaOgyRAK"
    },
    {
      "cell_type": "markdown",
      "source": [
        "![image.png](data:image/png;base64,iVBORw0KGgoAAAANSUhEUgAAAW8AAAEWCAYAAACpERYdAAAgAElEQVR4nOydd5hV1bn/P2uXU6ZXZpgZ2gAD0puAPSAqYIktmnLTTHJN4i83mnZvkpvEJMbEmGZyY4rRxFQ1ttgFY0VBLIDS6wwzA9N7OWeXtX5/7JkRFGHAOTNzYH2eB55hOGevtc/Z+7vf9a63CKWUQqPRaDRJhTHUE9BoNBrN0aPFW6PRaJIQLd4ajUaThGjx1mg0miREi7dGo9EkIVq8NRqNJgnR4q3RaDRJiBZvjUajSUK0eGs0Gk0SosVbo9FokhAt3hqNRpOEaPHWaDSaJESLt0aj0SQh1lBPAMCVipa4IjMsMAX4gELx8j6Xmk6fZaURTBG8VgKP74qRn2KwsCiEr0AIaI8rHtkVI+4phHj3sS6aGCEnYiAVWAZsqPPY2uhyaVm0732GgJXlcbIjBvNH2ngyGCPmKR7dGaPNURiHGEMRPA3PHhtmVLqJr8AUsL3ZZ1O9y/kTIlii53UCXqh0EAJOLwkhe86j01E8tjtGp/Pu5+HJYIzSLBNfBmPsbfNZu99l+fgwEUuges7v3xVxfAlLxoaRPfUjpYJ/7eimNX7o8+h9zeIxYcZlBudhCKjrkjxTEWfZ+AjpoWAMU8DqfQ6N3ZKlpREEIABPwYo9MWo75WHHOLU4xJQ8C08GY9R3SZ7YHWP5+Ai50be+p/W1LjuaPS6aGO37DE0Dntwdp7FbUpBiMjLNYGKWRXpI2ySa458hFe+aLp+X97lsanRojksunRImN1UQ9wPhalU+jqHY3R3vEzIFxE2fViXZ2a0C0SMQVmX5CCP497tRGXdoUoHwGAKafIlvSXbF4n3vEwK6hY+Qkh1dsm8MV4JnSQx1aGHt/dV+xyXe7SF7xqj3JK4p2d0d7xMyIaADH4Cd3QrVM0bcB9+UiJB61/MwFdS6DrLL6BujyVV4pk95zME2esRNQCc+UsDO7ji9xX+VAs+UGPa7PyAMBbWei99zHkJAu6OQlmRvLE7EE30PoTbpE+/5nnqRCuKGjzjCGA2+y44u/6AxsCVVjkMzbz0gmqTEe9tnaAjoUB41ccmuNo9ORxE2BeMzLWaNsJmZbxM2D3c1aDTJixiKet6N3ZJ/V8ZYvc8hZMG4HJOxWQb5aQb2AUaTIYIb2pcHv7/35pVvm7nZD4Pr7ccSIjjeocZQwNs/nf6MIWXw3r4xeo7nv+1Y7+U8pDp4boLgXN5+rPc0xqHOw+j/99H7/R12jEOcx6HGECL4v8OdX1tcsa9NsqfZp6pVMjLFZHlplGm5NpY2xjXHGYMu3mv2O9y7vQsMmFNkMTnfJGIFN/DbxU2jORp6H8QoaOhSrK1yaehUfHFOOkUp5lBPT6MZUAZNvD0JD+/uZkVFjJmFJvNKLFIsgacFW5MADPGWNZ4TMSgOh8jU5rfmOGLQxHt/l88v17Uzc6TF9ELzHctlzdEjjuSTOM7pz6Xb664SQEkkRI6lLXDN8cGgiLevoDwWpyHmk9ITpaA5dizLwjAtXCeO7/tDPZ0hQQhBKBxGCIHjOP2yBHwJ22oUpxaGGZ2hRVyT3CQ82kQB1XGHdl+SYmvhfi8IwyAUCrNz8yZWPvgAa555mvr9+084C1xJSTgaZd7pp/O+8y9g/vsWIYTA97x3fY8gMCIqOlwmOxaj0eKtSW4Sanm7vqLe9aj3vMOG7x0OwzBACOQAWJhCiH4ttYcjhmniex4P/PlObv3+91AoTj7zLKbMnk04Ek3a8zpWKnbs4JXnn6Ny927e/9GP8vlvfou8wkI81z3s+5SCFMtgXCSMdWI98zTHGQkV73u2d1Pd7XLOBPsdIV79QRgG7U2NxGMx8otL3pOACyFQUqJIPl+xYRi4TpzvfP7zPHHfP7nsE1fx6a98lZGjR2Hb9gm5mlFS0t7WxqN338Wvvnc9Wdk5/OSvf2fyjBk48fhh3yuBgpDFyJA9OJPVaBJAQsX71YYYdXGPUVnmMQlMOBLh9pt+xP7KvXzzV7/GiccxTRPTsoEgq8ONxxGGgWmaKKXwPY9QOIxSKlhK+z6+5+E6Do/85U4u+I+PYff8f7IQjka57aYf8avvfofrf/0bLv7Yx/vONZnOY6AxDBM7ZLNryxa+cMXl5BcW8uv7HiAciSClfNf3KcA2BOOjYcJJ9iDXaHpJmHi7SrGrO46n1DFb3U53N1/98JW8uW4d9655hYJRo6jcuYOXn34ahcJ3XM694kp8z+X1558jZ0Qhk2bO5PG7/0Fmdg61+/cz+5RTmbFwIX/5xc+5/84/8f3f/JZJc+cljejZoRCbXn+NTy9byuWf+hRfvelmnFgsaeY/GERToqxasYLPX/J+/t+3r+eqL38F13He9fVCQFtM8XqVz+UTUhiZqv3fmuQjYYGv7Z4kLo9NuAFM02Tbutf54NWfIx6P89g9d2EaBjdc+1801NTQ2dbGQ//4G6GQzfWf+yyhSJR7b7+Nl5/5Nw/f9Q+ef+Jxtm1Yx6033oBpmnS2t4EQjCguHtgTTTQK7vvjHWTn5/HJa7+M57pauN9Gd1c3py45hyuv/ix//+1vaGloxDAPI8gKbBNs6+AMUo0mmUiYeHdJ/5hvDCEEsc5O1r+4CuV5lE0+iQf/8mc6WlvJys7BdR18zyO/uJj2lhY2rV9HW3MzM+fPx7ICP2bR2HGUjCtlf1UVwoT0rCzC0Si5I4uOnLM9TBCGQWdHO6+88DyLL7yI/JGFh42oGLBxhcC0+heIZBjDI/FFKcX7lp9PR2sL2za+gXkY8VZAxBKcMdYiOzo85q/RHC0JuXKfrYrzdIVzzMFYpmWxYfVLzDrtdGaf9T7+83++zu7t23jhice5/JNXkZGWxuTpM7nhd38gIzuHlNRUynfu4JzLr2BcWRme6yKlj+u6fdWiYl1dxGPd1FdXow7jDx1OmIbB/spKWhqbmDJr9qBY3EIIutrbefr++44ozIZh0NLYkPA59QfPdTlp5iwysrPZ8PLLmP1IxvEUdJ6gcfKa5Cch4m0A/jEKjRCCWFcnNRXlpGVlkZ6dTUHJKOaftYgtb6zniXvv4a4/38mtN9/Ezf/9VXzp89Uf3sTG11/n0X/8FdOymDB1Glk5OWTk5DB11mzamlo5Zcm5lE6aTMWObYdfUg8nhMBzXSzbIreg4LCbcAOFHQ7z8jNPc/M3/ofG2pqDLFjLtrFtGzscxg6FqK2s5Hc3/oBoShQIHrq2bWOHQoge4Q+Fw4RCIUzLIhQOJ2zeSinC0SimZeH3MzRVqWBvRqNJRhKSpDO/2Ca3Sx5ToSmlFJYd4qJPfgopJa7jMG7KFO54YgVKKX71za9z3oUXUjy2lH/99c+U79jJkssu5czl56OEAKW44bbb+4ROGAau4zBp9mx++o+78TxvQGLGBxt1rJsHR4Hoid55/rFHqKyoYOX99/Gxa7+E392NaVlsW7+enW9uIDUzixnzF3Djl65l147tPP/448w740yqdu1i0ysvY4fCLFhyDijFv/54B9H0NMZMKGPnpo2cd8WV2KFQQlYRfcc8Cq9YVYdPWppFeig5XGkaTS8Jsbwd/71XCPR9/62bUSnisRiu47BwyRLmnHY6E6dO5X9u/hll06fT3RXDlxLp+0gpcRwHz/PwekIEAXzPw4nHk1K4BwvTstj6+mssvuAixk+azL1/vIO25iZCkQgb177MDV/8f6Tn5vHfV32CLevX0drWhm3bFJSUULF9G599/4Vk5OSw6t9P8f1rPkdqWhorH3mIH33tq6y87x5W3PdP3FhsWMTZ95aX/efmGG82HD6xR6MZjiTE8pYJ2sNXSjH3rMUoJQ+K4z4hs1QSgPR8Nr2yloWLl3DG2Uv4063/x9qnn2b5FZfz2N1309XRwYJFi7n5T3cybd7JpKSm4nsus2ZO59Yf/4TyXTuZNGcuDbV1/OBL19LW0kJuwUhC4S189lvfAQR2ODwo7p/+4urLR5OkDFvL+93weiJNZE/yjb7zBgbLttm7YxumZVFfU8O8008nIzOTu277HZ4EKX32VVXT0dLM0ssuJb8oSEUXwkAS/H8kEiEcCtPc1ITjOEjpo1RQhySSmoYdiQy7MEfR95dGk1wMuHh7Ev62qYsdDb7uXpIkCCGId3fz+N3/YO6ZZzL/nHNYdOllnHzaabzw1FM899hjLL7o/TjxGDd+6Voe/vtd7C/fS2Z2Ns31daxf+yoLzz6HopISNr78MpW7drFo2TIys3Noqq3F9zxiXZ3DTrg1mmQmIW6TLlfhDZ+VseZICEFnWytlM2ZhhyI4sRidbW2ce9kHmHLyfFqamjjvAx/gV/fcy5pnnsG0bTLz8/nc/3ydF596CtO2KZs+g1/d+wCbXnuVeaefxqnnnEtXZyeLLrwQJx6nrbGJvKIipBZwjWZASIh4v1u3cM3wRElJZl4+51z+gb5onNSMDN7/sY9jWALflTjxOKedt5Qzl58fbArH40yYPp2T5swhHndwYjHGTJpM6ZSpCAGu46CU4iOfvwaEwInFh5WvW6NJdoa0e7xm+KB6BLnv3z0RPgfiOg4HxmV4rofnvpXx6Xsuvndw5Eas++BjaDSagUF7pTUnNKrvL40mudCWt+boEQKzR/EkydvgAiBkgqlNGE0Soi9bzVEhBPjxGHtr2tlZ3UZ3RydGEpquimBv5gNTIszIP7qmDDU1NXj9LBBWXV3NM888cwwz1GgOT0LEO/luZU1/EAI6Wjv597YYj+yxeHxviIe3euzd35aUAi4E5KUYpBxFPzSlFF/72td48cUX3/U1nuexZcuWvn/rjVpNIkiIeOtgk+MPIQS4LmsrPbZ2RJBCYAioc8M8U2XS1tqFkYRhRlIdnbGxfft2fN/n4YcfPuj31dXVvPjii9TV1bF+/XpuueUWWltbCYfDFBUVAYHF/tJLL7Fz504AduzYQUVFBS+++CLt7e0DdUqaE4QBF2/LgPeXRRmXbSYsy1IzuBgisDg31Xrs6rCxDdX3gDaFos232FCv8HyVLKXS+7CMozM21q9fz3e+8x02btxIeXk5ABs3buRf//oXpmlyww03UFlZSUtLC57n8fDDD3PzzTdTV1fHbbfdRmFhIT//+c9ZsWIF3/jGN3jwwQe5//77ufXWWxNzgprjloRY3sXpBmkhoTPXjwMsA1pjipU7XV7eb+BhvEPsTAEVrfBKlZdUMf5Sweoql8r2/hUrq6mpobKyklgsRn5+Pvfffz8AK1euJDU1lYULF/KDH/yA0tJSCgsLyc3NZc6cOaSkpPDkk0/S1NREaWkpCxYs4KmnnmLSpEnMmDGDK6+8ktra2kSequY4JDE+bxV06NYkL4LA4t7e4LNyp4tUYBiKsPDxe1wNCvCUIMP0OHsMVLVK9rbIpIjeEATX6bZGj/ru/l2tr776Kueeey4TJ07kC1/4Ao8//jgAGRkZrFmzBoDW1lY6Ojpwe9rVhXtqmOfk5FBdXQ0ELf6KiopIS0tDCIFt24ft/KPRHIrENGMQOowlmTEFxH3FC+Ueb9b4zCmyiHsKXwnmFQqmZMSxkRhKMjLkcFaJT/GIVGYXWbxc6dHtDP9Oc4ogRPBD06LM6ke0yd69e1m5ciUpKSlEo1EyMzPp6Ojg7rvv5rLLLqOzs5PPfvaz7Nixg5KSEqqrq1m9ejVvvvkmHR0dLFy4kNLSUn7/+9/jOA5XXnkl1dXVtLe3s337dtra2ujs7Ez8iWuOGxLSPf6NJod25ZER0a6T94Jl22x74w0+d8lF/PAPf2Th4sWH7Yo+IGMasK9N8WKFS05UcOoYm9V7PVpigXW6fFII03do7nBxfMhJNYlEw0gEpgHP7nYRwFnj7EHd8xBC4Hkel8ybzUUf+Q++8O3v0N3Vfdj3KCDdNBkXDR3R7+26Lo7jEAqFsG07qBXvBtmk0WiUeDxOV1cXmZmZGIZBLBbDNE2kDMoXh3oaUHR1dREOh7Ftm3g8jmmaQVljIBQKDZueoJrhz4An6fgSntvrUJgF2VETT4t3UmCIwAf8+j6PLXU+s4tsphUYvFrt0+4o0sIGuVGIWOCbYfJyQggBUom+YlNSwcnFFo9ucylvkYzNNvAH23+mAiE3jCM3R1bQ167tSNg9LeB6sSwL64AmzeFwuM9FAhCJRA55nPT09He85sDjajT9ZcDF2zTg8skR9juuriyYJFgGtHQrni/3AMXSshAj0gR7miQ7Gnzmj7Z4rcpjQUlgTSulDkgrf+vprBSkhgUnl1isrXTJTw0RtQd39SUExLtjtDa1Eus+suXtmyYtkSNb3pqhRymFYQgyMzOHeirDgoSkx0ctgdW/BDTNECJ69ia2N0herXYZn2Myu8gmZEJzt2JVucepYyzq2iUj0gwyIuKIlrQvYVy2QVWbyZq9Hosn2IMq3nYozL133M6/H/pXv9L2BWAZQot3EqCUIic3l8ceeUQLOAmsbaLQyTrDGdOAmAsvV3rUdUpOH2szOtPAV0FDjVUVHqW5BiPSBGv2SpZMfEuExQEb0oeqbSKBecUWj2x12NXoMzHXHLRVmJQ+YydOZNbCU46Ywq4AJSHbNrGSKcbxBMQ0TXbu3Mnzzz9H/IDqlycyCRFvgRbu4YxpwP42yYsVHlkRwfmTbFJCAk8GLpQ1VR6+VCwYZbNun09eqiA3KvBVINxOd4x9TQ5xH4qyLDLSI8gD4ouUgqgNC0ZZrN7rUZBqkBYWyEGwwD3X48xly7j2f79J9xE2XBSQbkCxFu6k4MkVK1i9+qWhnsawYcDFWyp4ck+c1BTF2CxDZ1kOIwwR9BZd17cpaTE5P6gP6MtA1Pc0S/Y0SZZPsnF92NXkc+poq+f9gubmdlZV+FR2h/CVILvW5ZTCdsYXpyPFWwLuSxidZVDVavDSXo9zJw7SppwIaovEJe+oR/52FBAyTVQ/ok00Q49USkevHUBC4pI8GXzQ+o4YQoQI6pH0YBrQHles2O5Q1SpZWhZiyggTpQJL2RDBpuWavR4LR1vkpgh2Nfmk2oLiDCOoW+LGWVvls7srjBJBaGCzF+L5fSZNLV0YbwvulgrmFlt0uopt9XJY9jQ1hL5MNcnJgFvehoDl48PsjTmDHyamCWptK0k8Fsf3JJGojTAtdjVKXq1yKc01mVNkYRn0ZE0GT3DHh1UVLhNyDUoyDdrisKXOpzDdYEeDT4cDbZ0+5V2hg+qBmELR4Vs0dsbJy5HIA6RQKQibsKDE4oVyj5EZNhmD5D7pD0pBfZck31Sk2lrCNcmF3rA8zlCuy9b9nWxuNIhLGJUaR4TC1MVMTh1jMzLDIO5Bh6/ocBSdjiLuB6nt1a0SA8Fj2xza44qYCxFLEnMFaWGBpwSHWrcqoMM3EEIg3lalz1dQkmlQmmOwqtxj2aThEdMsCB5e/9wU45IJBqeMDA31lDSaoyJh4q2Fe/AxkGyp7uCZ/SH8ngJS9Y5N1JCMyVFsrfdZv9/D8wOBDVuCVFtQ3yWJe4pF40NELEgNCVaVu8waaTK1wEQAOxol+1oE+RGfqi6zr36JLyE35LG7zUJW+8weafYl/PTiS5g90uKRbQ6ba32mFw5e9MmRcCXoctuaZCQh4h33wVNwFDXuNe8RIQTdnQ7rGyx8DMwDPvtuaaAcl4lFKWRFBREriG22DGiOKVZslywebzMq00Ap2N+h8CSU5Zk4PrxU4dHYJTm5xObNfYpS4VIbCzaji6I+pxQpUjJTeK7cp75TctZYi5TQWzHhCrBNOGW0zdO7HIozDLKiw8N9Ivr+0miSiwHfQvIVPLCtmz1N/rDcoDpeEQR+607feEdZVgG0uYJNdR57W3x8CWEr2Fh+fo/HpHyT4nQDxw8s5o21HuNzTFpjioc2O0iluHByiLpOSdXGtay7/Rv886qT+dWSfL59RiHXfuB8XnzkPpaV2WSEBI9uddnfdvAGpa9gZLrgpBEWL1a4QdjhYH5AGs1xxoDLq1LQ0C2J6aImg4oComGDEWEPX4qDfm8JhW0ElnRjFzy+3WVVuccL5S4ZIZhTbOITbDY3xxRNXQpXwlM7HSbnmywZb7OvppHbfvBdfvXJpWxav44b/3A7b3Z08dibmwH42ic+zg+/9EVOG2sxfaTJ07tdNtX5B0Vz+BKmFwShiZtq/aQoHavRDFcScvuYOvxq0FFKEQqHOLkIsqygroyvQChFZsgnNWKyo0FyxliLpWU2TV2SzXU+HY5ie73E9QPXxvZ6n4ZORXWr5OzxIaYXmjQ0NvG5Sy7ixTt/ytQ5c7j1gYeYtfAUpILisWP56o9+DMA9f7iNV198iZPyTc6dGGJzrc/z5cFcDNHzIDFg4SibzXUedZ0qqZo3aDTDCW37HEdIBYX56VwwUXDaiDizsuNcMM5lZIZNZopNVkTwzC6Xbhc6XbjopBBTCyy21Xs8vs1hVbnH5jqf6SNNLjjJJj9VoIBvXPNFKjevIyMri5vv/AtZOTkHjTv7lFP7fn7snrvxJOSnCJZPsnE8eGy7Q3O3wjSCB8qINMHUAouXKlx8qR/0Gs2xoMX7OEMhyMlOY+74dM6YmMa4ogymjQxR0eIzuyiIEnlwk8OMQpOx2QYT8wzOnxwiIyxYU+nhSoh7itp2iVTw99tuZ9XD9wHw6a98heKx4xAiWF2ZQr0jMWfT668BgUhHbMHZE2xGZ5o8vt1hd1PgB/clTB0R1BPZUOMNqftEO/c0yUrCQgU1Q0dQXzvIvpE+5KUKMsKC3U2SsCUQIsi2hKA/5eq9Hp2OIi9FcNoYi/Y4rK3y8Dqa+fm3vwVARlYWl3zsE8HGaFeMqmaXuA/FGSYZGW/Vrt70+ut9P/eGhM8tNslLFbxU4dHQaTC3OEgSOmW0xYodLiUZioL0I1csTAQG2vLXJCdavIeYUDiEUuB7HjJBAcdCwLRCkye2u4xINbhsWohV5S7/3uXS3KUoyQyyKiuaJWOzgzjtKQUmN33/r3S3tQBw+hWfRkazaW7uCGqbxEJIBFk1HgsL2w47vidhTJZBZsTm+T0uK3e4nD7WYkSaYHqhyYsVLhdMtrEMMWiWsCLww186JczUDH0baJKPxDQgTsRBjzsCe2/FAw/w0lMr6e7qIhyNYIfDGAPRjPZttU0EEHMVE3MN8lIFWVGDddU+OSkGC0ZZ7GyQTMoLEnI8CR3NTTz425/2vX/uskt4blecJ/YIKrrDQRq+gBbf5oX9B4vfoSxZT0JGWLC0LERGRPDoNpe9LYrphSapIcG6fYMffSIEFKebZIS191CTfJwQJodpWQcJ2XBAiKAO9sN//xvPPfYoZdNncOrZSzj93POYPHMGWTk5CEMcfU/DA2qbuJ4kNcWmyzF5udJjcr7Jzkaf8uZgl/CyaSFe2+exqtxDCMXoniqQpgEPPvRUn9U9urSU/1g2h5r6Du7dFrQYO7C2SU11Vd/wRWPHEfcVEUv0ZVoqAheKVIGv/NQxFtvrfZ7bE2RxnjLa4ontLiWZkuKMwa1EORwShTSaY2HAxdsyYGlphC7hDZNysIraqirise5h1dI8EG/wXBcpJTs2vsnWDev4x29vZczEMk5ZfDaLL7gAKRWCfsZeCoFyHbZUd7K52aDbMxid5hAXNiPSQuSnCp7c7jKj0OL0sRYhEyzD4oHNDqePsYnawUZjzIUnHnyo77CnXXgZb+z3aGo7tFujq7Gm7+eUwlIe3+aSGhbkpQhGpAbZlCm2wDaCRg1KwaQRJjkpBs/sdmnoVEwtMFlT6XHB5BAh663ONrKn7VqiMA3t89YkJwmxvCdkm1TE/CGvvWtaFtXl5XzmgmU01NT0u9nsYKKUItzTiNaybXzfZ9sbG9j0+mv8+Ze3UDZtGp7rIsSR524on41VXTy3P4wvDAwUjc022SGPsbbLpjqL6YUWhoCQGZQxEAIipuDNWg8EuJ5iX7tk41P39x03Y8bZ7G+X5KbYjE2Ps7XV6Mue9KTAqdzY99o500p53/ggjryhU7GhxiPuBXVUssKCkRmCnBSDtJCgMF1w8RSbVeUeOxslSsHr1R7zCnzqW4PMzqxUm9S0CFINvMRKBa/v97DzTYpSB8BVpdEMIgkRb9mzRB5qi0Yg8DyPjrY2LvnYJ1h84YW4rjvEswrotbz/+POf8vpLqzANE8/zUEqRO2IEU2bNZvFFF5OelclNX/kySh1+M1MIQVenw4ZGEyUElgienIZQtLkmdR2SKSMNOhzFmzU+bXEVFK7qlKSEBFEb1uz1KM4w2Pjy6oOOfc0VZ2KZ0Nil2N3oU5buUNNl4ipBSdSjM1bd99qiMWPIighyoyYTcoOiT51ukLXZ0KXY3iDp9nxsIyiAVZhuMq3QorzZZ3uDZFudS22Tx75uCwnkh1zOHOVSOCJ9QAVcEKwANte7jEuxtXhrko6EiLchejLqhtxtEnSbFkIwYcpUFi07j7g7PErICRG4IO7/0x9xHZeswlymzpnLWcvPZ94ZZzB2YhnRaIjN698I3AZH+CwF4PrQ7Rvv8A4pgg3D/e2SjLCgID0IF5ycZ9Aal1ww2SYzLHhtn8/aSg+195WD3j8jPaXf5zVrwcLAHXTAfFNDgvSQYEw2oExiHrTEFA2dkv1tPlvrFLYV+M+7JOztDmGK4OFSEw/z7F6HC6PdpKSnDpgLRRG4TD48PcrYyPAoU6vRHA0JEe/yFp92FBkRMQwEPMD3XOKuxBkmzUuFEEgpmTF/PnNPP43TlpzDmAll2LaN73tBK6+4h+d6/VrCKCAlbFAQcdndaWIbqu/3hlBYBkQswfhck/F5JqvKXSpbFaMyTdLDwYMkOypQKNateu6Yz+vAbMu+uSnweydDkIZfkBZY3TNFULlwb4vkjX1xmmQg4r1YhqLRtWjocBmboQZ8H2W4XJ8azdEy4OLtSVixJ05JjmBG1ETXpzo0SimEEFz1pS8jDAPp9Qq2f8zHs8MhFhTFaS93aHADazJsKHJDHmnRMGELnt4VbCa2xxQNnT6XTwthAN0uvFbtcfb4ENVLXe4AACAASURBVHdV7u477s1/upOUuRfT7cI5E+3A3XDAuOtWv8Qnzl0CwKlLlvRrrr0rM8eD8jbJjsbAjZNmKCwhcA7hctOXkUZzMAmJNrlySpRa1x02BfeHM67jDNixpIL8vDTOt7vY2ejQ5gjGZymyMiI8uSeoHjhzpEV5s+TlTonjK3Y2+kzKN9lS55MRFkzMM2io3PPW/HIn0twNS8ssxCFcYetfXtP389kXvv9d5yYIWq4pFWR17m6SlLf4mAJKc0xOGW2SKhRPbo2xtT2C1bNy8KQgP+SSl2r1+LwHVsaHUQCSRnNUJMRtkhESNGvhHhIUgsysNOZl+oF/2DAxDMGUfI+1lS7nTw5RmmOwpd5AKcmORsnuJklDl+LMcRaVu/ccdLy69JO4vNQiYr+Vvi4EGD0iuvKBt6JSFi5e/I759FrZcR/2NUl2Nvo0xRQFqQYLSiwK0g1sI5DkbjdMXEhGhh2aHBMJjAz7nFasSEuP9qT9DwyCoMbKI9vjLCkxOCnnhEh50BxHJOSKVegelkNJX22THkNV+YrJI0y2N/jsapKgFLYJJ4+y2NMUhOiVZMLOBp+KDZV9xyk6aTbpIUFVmyQ7GkRjCCDW2U1Fo0tF+d6+WibnXXY5JWPH9b2m18puiSl2N/lUNEssQzAux2DBaIP0cFAj1leBq80y4LVql7QUm/MmGLR2uHhKkBm1EhIqqHommhYKwiY1mmQjIeJtGkHqtM5eGx701tGeW2zxarUHCmYXm4zJMlm3z8cyFBdPCQPw5N634snTsnJYONpibZVHxBKU5RnU1bfzbIVif9zm5b/c1ffaD3/m6resbA/2tRxsZS8cbTEi1cA2g+viwCJUpoD9bYqqVsWySRaRiE04GulrEjyQFveBGALOLg0zOqStbk3yMeBXrVTwbEUcOyIpyTC0gA8TfAmjsww21wna4ooxWSZ+YISTGQ5EVSkYkfaWeNtmsInpSXh2t4stFZv2K6piYfyORrY8cgcAY05exJiTZtLuBHHclS1BB53SHJOFo03SwsGxVY+VfSCCwPp+pdpjaoFJVkTgDeJF09uMWa8SNcnGgIu3Auo6JTmmCjaDtHgPKwTQ5SpiHmyr90kNQWtc0dytyIoIKkPj+16bFRGcO9GmvFmytcFn5W6Jq2xsQ7Hx8b8Sbw9qn8z/9Hd5oUogTZfcVMGCUYGVbZlBks7hSr2aBrxZ4yOV4qR8c9DLwuoNS02yMuDibQq4bHKEipgzJPWZNYfGEFDboehyFWOyDJ7d7dDtwpIJNptqfbbW+wggkpFNybhSqvbsDmLH7aBs69RCk1cr4qytljTs3sia264H4Kxrf0Z26VRK0jymjLZJDb3lyz7S928IaIspNtb6nFUa1PgezHo4SkFbXBG3FRFTq7gmuRh+xT40CUEI2FLnMybb5LQxNvvaFMUZBnkpgqkFJlvrfKrbJItKbT5w1VUAbHz1VYQIBHVLraSiFbLdBp796RcBmHrhVUxc/kkKQi5TCyxSQga+7L8ACxG4S0ZlGoxMH9xqgr3+9Ls3dfNG/fAomaDRHA1avE8ADAHN3Yq6DslJ+Qa1HTLopuMEAtYSU3S6itIck7SQ4OKPfYKpc+bQ1tLC9f/1RR56rZZtDR6h3c/w588vpbNmN+dcdzPnXnsTE1JjvG+MIJIaRR6Fr9o0oKI5KF41u8gcsr2RbicoK6DRJBsJ2WYX6A2g4YQhYHOdT0mmQcgSvFLlcsYYmx2NHmsqPSpbJfNLLCpafKYVmGTn5vD7fz3EH37zRx688w7uu+M2AKbOmcPSD3yASz7yUbILion7ipyUKCIUOqo0c0GQXfnaPo9ZI01SQkPTAg16fN76YtUkIQMu3r6Cf26NkZuhKMsb/A0ozcEIAR2OoqpVsnSizRv7PVJtwZRCA2GYPLndZckEmykjTB7a4lDR4jMu22RzewbFF3yBOz93LeNzTHx1QHalEBhAOr31uY/ObDYNWLffJ2oJJuQOzjUiAGGaQe0Yz8P3vcQPqtEkkAF3mygFNR0+Xa7SBs0wwBSwrUGSmxI0dNjWIJk/ysLxYGejJDUUFA8zDZhaYLFhv8/j2xza4orzJ9uMzzHx5NvS4pVC9vw52spOhghKy25v8JhfYiUs2qN3VoZhEo5EMO0QzQ0NrHjgfm788nXU7duHORDt5jSaISJBSTp6JTocEEDMgz1NPqeNsVlb6TEh1yA/VbByp0vYhPPKbF6q8CjJNOh0FJWtkgWjLBaOCi6NRNSnCeYRdJQf8OMrMIRBxADPtmmqq2PdmtWsevIJXln1AlV79hCJRPnktV8ikhLCCksMUyfpaJIPfdUex5gGbG/wSQkJuj1Fa1yxaLzN2iqf9rhiWVmI1BDsbDB4cLNDfqrB3CKLmBfE6A+0O8M0YEdDsCpbXGgnJLpEGIK2lhYe+9cjPPPwQ7zywnPs27sXz3EwbRvTNLFsi2cefZjsEYXs2B3j6YIw+3OsISmkFnfiFBcVsXjRosEfXJPUaPE+TultzrC90WdSnsX6fT7ziy12N/nsaPBYPilExIZt9ZJ97T6OH6TPZ4ThoS0ujV2KnKgYsCgQAXQ5sG6fz4LRFiFr4B8OAHYoxLOPPcIjd/2d+poahBCEQiHC0Wjfa+LxOP/33e8GNdWV4hnB0DSoFoLuzk6Kiot5Y/160tLSBn8OmqRFi/dximHA3maJgaAtJkkPg23BixUeSybYpNiC53d77O+QnDnWprZDsn6fx9JJNsWZBlvrfE4faw2YeBsGrNvnkZsiGJNpJGyT0onHOf/KD3Hhhz7Mc48/xvNPPM62NzbQ3NSEIQSmaZKSns73f/t78otKeHRzN4tGRZhTEBrUtHyAaDTK7bffzr333Teo42qOD7R4H4/09Mfc1uCTmyrY2yqZXWTxwh6P08bYCCF4cLNDdlSwfJJNekiQl2rw8BaHPU2SqSNMVuxwaY8rUkLvvRuSKaCmXbG3VXL+JDuxFRMUWJbFpKmTGTd5Mh+6+rPs2raVtc89x/OPP8aW9evxHIeJU6cyemIZIyZ6zMywyA4lclLvTklJSU+0jt4l0hwdWryPM4QQGMqnrs2ls1uhpEFBmsGmWo+yPJPWuOLFvS4zCi2mjAiiLVwJYQtmjjR5rdrj4qkhclIE2xslc4veWzckQdDPcm2Vy7QCk8xIAjYp3zagQuFKiHd3IwyDSdNnMGXWbD509efYuXkjm9etI5qSihuPMzZdDJlwazTvhYQUpnpHaJlmUBAC/HicN6u62Nhs0iUtYo6L7wpM26K2I+iec15ZiJzowYkxvgyqAG6rl2yt95leYLGqwmXqCLOvWcKxYBqwqSYo3XdSvjlom4K9dqxSCs918VwXIQSTZ85iyuw5uI6D9CVSmLqqoCYpGfA4b8uAJePCFGcOXcrziYqQks3VXTxfG6bRDRGXgkbHZH8ndMd8slMMlk0KkR05dEajKYJWaRtrfNLCEDaDFHbjGK8SQwQtzzbV+swfZWMOcTGGXiF34vHAVSECX7wWbk0yMuC3kwCm5lnkpgxcpILmyAgh6Op2eLPJAiEwRZAkZQjo8g3yI5J5RSbWYZpk+AqKMoI48I01PlMKTLY1eMe8uSiAV/sKTw2/60Ep2NHo0dit04A1yUdCbKGg+0kijqx5NwTg+YqYL95hShpAVYfg0W0OdZ0S6zDfulIwp8iivEWS1lMlcF+b5GgrppoGVLRI6jsks4utQa0Y2B96qwqu2uuyp01XptIkHwkR76BBrWYwkUBqxKQkxcOX4qDfm0JyepHHuByTp3e5vFYd1PU4lCBLBZlRwbjsYJNzYp7J1nr/qHzeQvQUnqr2mFNsk2IPvz0QReAy+eC0CLPy9b69JvlIiMZWtUnaHaW7lAwmSmGGQswZaVAUjuPLYOPYRnJybpzi3BSmF1osmRCiqlXy2FaH+k6FdQifr5Qwo9CksSv4/3ZH0dilMPr5fZoC3qz1SAkJxucmLqb7vSKAsCUw+3tiGs0wYsDF25PwxK4YlS3+US+1Ne8NqSAvN50LyiwWFTnMzXO5cJzP7HHpCNvG8xW5KYLzJ4cozjJ4aqfDa9V+nxXaiwKiPR10djZKClINtjf4/RJvQ0BDZ9DLcl6xNfw3A4fZikCj6S8Dvl60DLh4UoQG3x22FtfxjAIi6alMTw/iNZUImkD3lm3t3YuYW2QxOtNkdYVLVavPqWNs8g8oFOVJGJ9rsr1BYhqB37strvqqEB5u/FerPSb2FMAainohR8Wwf7poNIcmIW6TvKhB1BLaqBkilFL4SuBjvOvGsSchN0WwfHKIkkyTf+902bA/2LjrtbAtA2YVmexrk0Rtwa7Gw29cWgbsavTpcBQzCq1h/fAWBO6hR7bF2NKoa3trko+EiLdCr0aTARmEOjO32GTReJs9TT5Pbndp7g583VJCSYZBdorAlYq9rT4x79DGqhDQ6Sher/Y4uSQoPDWcr4HeuVmmGPL4c43mWEjIZWsI+r25pRlaejNiR6QGvvCCNMGKHYEVrgi+x1mFFl2OotOBihb/kEk7poD1+33y0kxGJbDw1EBiGLBsQpiybB1tokk+EtJJ5+V9LjXtUgt4EuGrwHqeW2KxeLzNnmbJEz1WeH6aYHyOScxT7GyQ7xBmQ0BNu6SqVXJycXJ1pxluIYwaTX8ZcPGWQHWbT5cOFUxKfAn5qYLzJ9kUpBs8sd1hY41keqFFekiwr11S0yGxzSARxxACX8Er1R6T84PCU0mVoKWvUU2SMuDrRVPApZMjVMScpFg6a96JVIE1fXKxSVG6YM1ej6pWwbgcg7VVPptrHJwOl7grKcqy2dsdQirBlILkajitgJir8EIKWy8TNUlGQpx9venx+nZIXnp94UUZBhecFGJdtcf2Bp+oqShvUuxosHCVIKfWI2TGWVQWxRIMuzT4d6M32uSezTEuGCeYV6DrwmqSC73PrjksvgRLwMIxFmeMMrCVT0wJlBBYBjR7Ft0eWG4XKgkf1y0xRUxHCmqSkISFCmqOHxQglSBdxOn2D15RmQLaPJO6domRhN+8IdB7M5qkZOA3LBU8tivO3hZfx88OEIKgK/pQoxDvYlsrDKGGXLr75jbUE9FoBoEBl1dfwe5mj7ZYMi6ihx+GYeB7Ph1tbUPT4bwHqRTpaWEmZrh4Mogq6vWL54U8CjNt5FB+40LgOHF8T/tANCcGCWnGYBl6KToQSN+ncNQoIqkpbN/4JuZQLmUUCMti3ugwMzNjRIVPSPiURBwWjVakpUf76qcMBZZlsWvLVtpbW5k8cyZ+MoW9aDTHgE4tG8ZIpUjLyGDGyfN59pFH+Ph/XUs4EkHKoREmpSCSmsIZZRazu1x8qUiLhAhFI0Me223aJmufewbLtpk272RtgWuOe7RXejijFKZpctknPsmOzZu4947bCUfCQzwlhWGHyMxMJSc7DTsaHXLhDoXDbHrtde685RYu+OCHyR0xYsgecBrNYKHFe5jjxOMsXHw2H/zPz/LbH/6A1U8/TSQlijjWrsADgFIK2fNnKF0lEAh3W3MzN//318gZkc+nv/q1vjn2B1+37EsaBO9s8Xcio90mSYD0fT79tf9m42uvcs2ll/C5b/4vV/7n1aSlZ/SI1ImnPkIIpJS8/Oyz/PhrX6G6opyf/f0u8goKcOLxI76/t+jW5VPCzMjUt8FwZveePcTjDnvKy5G+z+YtW6mtqycnJ5vioqKhnt6Qoa/aJMD3fbJzc7nlrnu49Qc38Mvrv81jd9/FmcuWMXvhqUMahTIUCMOgfMd2Vq1YwasvPMekGTP5w6OPM2XO3H4Jd99xBIzKNMkM6wXocOaOP/6RW35xC7Zt4zhxLr/8cuLxOL/81S/55Mc/PtTTGzISIt6+1NXaBhrPdcnMyeGbP/8FZyxdymN3382jd/2DP//ylqGe2qCjlCIlNZXJs2bz/77zXS7/5FWkpqXhOM5RH0vKwAo/sR5/ycXiRYv4yc0347oOpmnS3tZKRmYWC+bPH+qpDSkJKUx1akkIZUvtSxxgfN/Hl5Izly3nfcuWU19TQ1try5D7nYeCSDSFESNHEo5EiMfjxyTcENT01sI9vFkwfz4nTZnCpo0bMU0TX0rmzpvL5EmThnpqQ8qAi7cQMG+kTUXM0eKdCJTC7XENZOflkTNixBBPaGhQSiF9n1h393s4BpQ3+2RmSbIj2nUyXElNTWXJ2WezYf16bNtGKcX7L7oIYwg37YcDw66qoBAi+FIGwI9rWhamafWklxuYtoHpD8wpKymHPBzN933w/SGdQ7IiCK7Rp/bESRlnMr9QVxUczixbtoxbb70Vz/PIy8tn8eLFQz2lISch4i04NuG2bBvp+zTW1R3VxtO7YVoWtfuqkUrR1tzM/oqqATmuYZpkZGWRlpGJ68RPSLdFsqMImkl8ZHqUCSn2UE9HcwQWLljAxLIyNqxbx5y5c5gwfvxQT2nISYh4N8cUcU8Rtvov4aFwmB2bNvG7H97IK6uep6ujY0CiKJRSxLq6+P2Pf8QdP//pez4eBPVGRpeO54rP/CcXf+zjCKWG3ArXHBthS2ANg6JfmsOTkpLCueecw4Z167jg/AswzeRqt5cIBly8PQn3bOliVK5gZqGF1w9NC0UiPPHPe7jh2v8iIyuLT3zxOkaPHz9ggui5buA+GYCbVAhBrKuLlQ88wPe+cA1vvvIKX//pz4JVgxbw5EMvmpKGpUuXctddd7Ns2dKhnsqwYMDF2zLgwolRWpTbr5ZYlmWxa/NmfvjlLzF93ny+/9vfMaKoaGBdEUIMaOyiEIJlH7iCf95xOzd+6VrGTSrj41+8DnmMEQ+aoUNHmxyauONQVVXFmpfXsn7DJob6UxJC0NnVSSQ1i1/9+ra+jcuhQikwTcEpC+Yye/YsRpWUDPoGakLcJkXpBl636JdRY4Vs7vnD7xFC8M2f/YLcgoL3FEEwWAghuPIzV7PtzTf4y//9H+df+SFy8vODTURNUiAlrNgZZ1GxwcQsna/Wy6bNm/jyV7/O6jVrEX47ZcWK1LAa8twNIQRjM2zWP/3zYTAXaO2CX//KIBTN4rJL38/13/omxcXFgzaHhFyxSgX1no/0rDYMg7bmFtavWc0ZS5cyanwp8VgsEVMacJRSCAEXfugjPPz3v7Fzy2YWFi7W4p0k9F6b7U6wP6MJopdu+8Pt/O93bmBEaiO3fiGTeWV5lBaBHVHaxXQgArq6BOX7FM+ud7jxr39kxcpn+NnNN3LJxRdjDMI+SkLE2xACox+eCiEE3Z2dNNXXM6JwZNJFbfieR35BIZnZ2TTW1p1waerJjCJwmVw+JcKYsI42Afjfb3+HH//4Jq65NItvfSyP/DwVVO7yAO0RfAcptmJKKUyZGOb8hSP42u/q+OAHP8ytv/k1n/nUVQkff8CdNArYWO/S2KXo18NHCIQwknKzTwGGaWAY5rBoU6Y5enypDUqAFStX8tOf3sINn8njl9elkJ+lIE4g3JpDowg+n7hiTJHiruvT+NQFqXzjf7/Llq1bEz58QnpYvlnv0dQlT6BuOvr21yQv9Q0NXPflr3P2HJMvXxkCT4H2/h0dHggU3/tUKrmRev776/+bcBfqgIu3KeDySRFKc8x+RZtoNEOJp4uo8cCDD1Gx+w1+eHUGoVDPhpXm6PFhRJ7ixv/MYeXKJ3lp9ZqEDpeQ2BbToH8uE41miBAELpN7t8R4o94d6ukMKSufepYFU8LMGC+0m+S94sKSuSZF2R7/fvrZhA51Yld20Zzw1HVIOtwT1/SOxWK8+trrnD0njGGjPYDvFQkZaTCrLMJLq19O6F5eYkIF0TWSNcmBIQakBlrC6O7u5oUXXsDzPNLT0zn55JOJRCI9oarvnHhvxFZ/I5+kVCjfYVRBSPuPBgoBY0ZYPPZmNZ2dXaSnpyVkmAG3vH0FD++IUd7sY2q7XqN5T/z2t78lJSWFadOmcc899xCLxVi9ejWVlZXveK2UkieeeOLoapuLQOi1bg8gqjcUNbE9Nwfc8lYK9rb6jLPFgM3btCyk72NaFkrKwLoQAtM0kb6PIkiz9zwP+bYdXjsUwvM8lJR9x0m2eHLNicuuXbtobGzkW9/6Ftdddx0dHR388Ic/5DOf+Qytra3s3LmTWCzGJZdcwoYNG/jFL35BWVkZQgjeeOMNhBBcdNFFOgfhOCQhbhNzYMpxA0EW5sp77qK9pYXa/ftJy8wkZNtYpknV3r0UFBaSnZdLLO5wxvILyCkowPc8TNOkYts2HrzzjxSPG0d6RiZVe3az/MP/wcjRY/B9vTOjGf58+9vf5uqrr2bx4sVcf/31vO997yMvL4+RI0eydu1aTjnlFG6++WZGjRpFUVER+fn5xGIx7r77bi6++GK+/vWvU1payvTp04f6VDQDzLB3bHieS8m4Ui76xFVUVlYSSknlvCs+yLST57Nj82Ymz5nHqUsvoL29ne989jN0tLRgGAa+7zNuyhT2lpdTetIUzv+Pj3LqOecgDIFhGpiWhWEYWJbV97NpBs8ypRSWZQfWvWVhmOYRi84YholpBcc9Uf6c6J1MBoNoNMr999/PV77yFa677jo2btxITk4O6enpzJo1i9raWlJTU3Ech4yMDDIzM2lpaaGzs5OSkhJ+85vfUFJSMggzVWApsA/4Yx3lCtdWSaBIw4dhX43HMEwmz51HNCXc1/qqYFQROQWFmJZFWlYm2QUj+Oh/XctLK1bwwuOPceFHP0Y8FgvE2bbxHJf25hbaWtuYOn8ha1Y8yboXV2GHQ4TCYVzHQSk47dzz2FdRTntLC2Mnn8SkGTP50y9/QShkk5qRycVXfbrHN/j2i1LQWFfD3p27cU+QyoKe55GWkUHuiBHaDZVA7rzzTi699FIuueQSVqxY0SfMW7du5W9/+xvXXHMNSilqamoYP348DQ0NeJ7HG2+8QXl5OeFwmIyMjMROUkDMsXl9W4i4I1EIfAlpUVgwMYYh+nN9GKzaIBiVpxhTKIcu1lwQuA2SoIfjsBdvCDZi+vRB9HT87gnBUVLhex6GYVA0ejTlu3ZimD0+GyHwpc+6l1ZRX7OPnVu3cOb5y4h1d7Nr21auu/FHPP2vB6mpquZj117HHT/5MVd+9nOkZ2Tx469+mW//+lZ2bd3CGectZc4ZZ71DpIQQdHV24joOv/7e97jtppsG8VMZWlzXZe7pp3PL3f/Ec5M3Tlqp4R1kMWbMGJ588kls22bZsmUsWrSIffv20djYyBVXXMHrr7/OaaedRigUorCwkGnTpmHbNtdccw0/+clPWL58OTNnzkzsJBVEIoqNu7q5+qY6/vTdCeRkRvjHkx5TRsXJzJJBJIMhgsxNCfSGJXqArXDjJj+9P8LFp7h8fIwTZHlKAiH1AbPnS/J77m2r54vrPaYvgt8d6K6VgAl4IvjZ6omD8wwwVKB+sucYrgChqGmxeXVXJhfMaxz2WaZJId4QfIfBpovo6UkpevpdBq4NJxanbv9+Fl14Ed4BHSAsy+LUc85l7llnsm9POR1tnZSUjid/ZBHjJpcxqXwWXZ2djBw9hvr9NUSiKZRMnIjjusRjccZOLKNw9BiKS0uJv71UrVJEolHskM1p55zDlNlz8L3j35du2TZPP/wQDbU1Qz2VY0YR3LPnTghRlj3Ut8G7RyVceOGF7/jdRz7ykXc90re+9a2+ny+++OIjD92jie95j8qSjMzuBGLMKWskNzObqaMkcTfEw6sMstJMahpd5k+G7FSPJ1+zKcgxmDLKZ/0ei0klcNEpBvMneazbkkJdM+RlQmeXw8knGby4IYxlCk49qQPfN3hqbZisNIPaJpfZE2D8SIfn34gScxSerwhZklEjTF7fIVk0U1KY7bF6cxoKWFDWQW1jiDVbDQpyLPbXxzl3riI9RfHdO73/z96Zx9dRl/v//f3OcpbkZN/TpEvSvQW6UFooiFAoBcENFcEF9CrgRQQV9Yo7+kOuCir3eq9yVdzQqxdRAYG2FChLoRuUQvemW9IkTZo9OcvMfL+/PyZNKRTokpPktPN+vU4p6Tkzk3PmfOaZ5/s8n4fORB9zxudQEusEPXIXeof7rD0yhCART+EkE2jl4boevV1d9HZ10dbSQmtTIw/+9jfk5Ocz+9x34qZSvmNhTw+9nV20NjWxv3kfrc3N7Ny0CSsUorujg3hPgrbmZrrbO7BCIarH1/Ls0sWYlsnEadPILyqitamJ3s7Ow4qyXw4kAcG5iy7h0g9dTmqEX60Hg7ABbS0tPLtk8XAfynEhBEwuNikJDV+iVUpJV1cnv/jFPYRCoTdNQR3LPBEpBeotbv+FECSTKbp7enC94yxr0wwI3Z+XhomFOvjSNZLergi3/k+caTVheuLwwDNJ7rvV4md/76M4T/DzL2RRty/EnIl93HFfD5+7rAcZGcVXf9bIx99VjBAh7nsiwahSiVQ9/P0ZyR2ftvnOb+KMqbBRWvDHZQnuv13yf08LHlzeyvUfHMvtv9rG926o5U+P7mPDDigvMtnXkUSYWby4RbLwjBCfuL2Zz14xiv9b1kVzh8m/vifMxl0pRpVqLGvkivYB0iLerhrclJEUgv1NjZw+/xyKS0vp6+pif1Mj51zyLlqbm+lavpzy6tFc/qlPEwqH8TwPKSX7GxuZt+ACenp6WPfcc+xrbmLuO8+jZe9epp4+h7aWZrLz8hg7ZQpdHe1ce+s3ePxvD7Bry1Y++rmbcV2XCaedhmnbb5Ma0KScFAlHDcqA45GOjkRw3cxNlbwWpYa3oUwKQXdXF7+4555hKedTStPd00vKHbxGkimjBZ6KgEqglEBKl8lVKfpSJoufaYZQCbdcEebTd7TyyJpizjs1QU7EJScLtPKwDUXIcvm3KzVok1n/0snPvxSit8/hFw953HqVjWm4TBwFpmVz/+Jm0KUY0qOsQHP5OYqf3ucxqybBi6Mc6tuzeW5DnLmTX+Z7GQAAIABJREFUYGxFAY3NFqZQSOlyxqQky9d6bN3RBtFy8rI8yvJT5OemIDGyBXzQxVsKmF1uYdhq0ARcKUV+aRlX3XADnlI4SYfKmlo++cUv4nlqoNvMcZwBJy+lFKXV1Xz8pptQWqOVRkqJ46SoGDuO2e94B8lkivmL/PFFyWQSKQSX/8unUErhuS5Ka664/jMoz8NJnRhiFXAowz0GzfM8Kiorefbp5cRisSG1RpZS0tvby4xZZxC1e0Afxx2IwM8jA6fWJphQlc36bXk0d2Vjym609hcxEcL3/5ihKSmwWLKyhyvPSeF5Blr7eWcFWCbYUhO24+RlS/qSJh3tfeRnh4mEJEoLtALlCQ58gpr+ZiPV/xMt8JQgHFbkx+CVXYJbPtxNZ5+/sAqgle9xI4QAJUg4kkTKwE0YmIzswTBpEe8zR9nsjqcGNfrWSpGIH3wzlecR73vrcWnqda8ZwFN4/ZH0a6tDlNZvmOSTPNzrA04ItIYdbR45+YqC8PCkTjS+cIRCYWzbHvL9u57nd1gez0aEJtkXYlujwdjydh5aEaZ6u8eDz/Zy3fstSnJdDGlgCpeKkiwScZtwVorPXh4jNwaYLvs7bLLtTjoTMfJsj9J8aOkyqR3Vy52fLeL5zRLlFvPTGxWW4VCQ7WCaIQQOo0qjpHrDxEIpygokO5uhJA9auwQCTdRKcdMHcrj5p81887dZfHyhJGKmqC5W9CYNimMO0axccBQXnh5i2Yse25tzmFgeBzVyo+9hHYMWEDBcCPzU3uK6JNFxBmeUD71wnjBogS1T3HAZ3PSeSlKOg9Lw/jPBNPfz0HfDIJKgNZooUjiQ1Fx1nsKQSUgKirITLP1B2I/+RS/XXhQDuiAlWDCjj3On9qGFwLI12oWHv2uDSPUvBGSBSPDtj2ogDHofq/4rF00bF51qINBIq4unfxIDr4dwWKOUYO3Pc4AOPjgv5EftyRSfv1zwuXcrDNk6ooUb0iTeB29kAgJGJgeqTS6fEmZyLBiDdrwIobEMQEDowHVQSNAgDA6+4dAvuAJbHlzdl6K/ZO/AqqzgYDuFB6aB/wO3X18Ou83XvO61r+/fRthy+0sU/TGNyAPPPbANwNMYhsgId8W03Ct2JvVJUXURkNkIAQURScQMQo1BQx/m76/971uJ4uFe+3bPff02X7/P17/mzZ57NPseIQy6eLsK7t8cZ3ubhxm0ugaMcEZyg05AwFsx6GkTU8K7asO0eU4wBi1gxDPc1SYBAcdKWmLjkixJ1DrOFeyAgDSjNDy9K8XOzpM4x9efHw4cYwcRcaCpKr0KmBbxPlBtcqRPfrOpIJmDCMyZMgyBf57Wdyk6kifxLaIA11X0JVVwCzJYaOhLaEKhEEYanTfTsmUpjmwAscYftBAKh0jE4xl3+ZdS0t3ZQU9XF+FIZLgPJ+Ao0Pi+85dPCXNK8clbbWJbFuUVlazakDxo+hRwfHjw0tY4s2fNJBqNpm03aRHvzW0e7XH9tlqsPI/8oiImnXIaa559hkRvb0Z5RFuWyeqnn0Ypj9opU98wxSdg5GOc5CkD0zS5cMG5PL4mQWcPgZ/28WLC+l2wabfHWfPmpHVXaak2eaEhxb4ehXEEXwohBJdeeRVbX32Fe398F5ZtY9n2sA8aeKuHaZpEsiJseOklfn7H7Zz3rsuoHD16oDU/ICCTuGjhhTR1hrj7r0nIAEOmEY0W/OhPvWTljWLRRRemdVdpqTb58NQI9YkU7hGkElPJJOcsWsSV132G/7jt27Q0N3PFp68lOydnxOaRtVKsfmY5P/nGN8grLOKGb34LwzQz2tf6ZEUdqPE9iTVr/lln8q+fuY47fnYXC08v5fTpMMJtPUYmEfjjYx6/f6yX//rvOygrK0vr7tIzw/IoWyw91+WGb3yT8upq7vnBHfzjD78jOxY7uo28BVbIwnO8QTH9EUKQiPeRSiY5/7J3c8M3vkV5VdVJI9yWbRMywDAMhBTYIX8cmus4Q2qqdLwIfEOiv21JsLBaML3o5M17A3z1K1/miSeXc/X31nLvrSWcPg1wGL6JNpmEAQjBkmcVN97ZzGXvfh+fuPrqtO92RPh5q/7J7h/51xs456JFbHp5HTs3bxmUbUspeejPf2T2WWdTPqrquFMbWilyCwuZMnMGE6afgmVZJ4VwH3BtfHXtGoQQNO7ZQ19PDyufehonlWLcpMnkFRYOTDjKBDSwp0vRkRyZd3hDSUFBPvf+6hd86tobeOfnVvDVjxZw/btD5OcF781boqG5RfD9P/bxswe6WXDhJfzkrh9iGEbadz1ivE10v6NfRXU1VePGDcpxGKakuWEvf/zFfzF24gSuufGzJJ3BERelFK7rnhTCDQxMA/jx17/GyuVPEQqHkVLy8QXnEQqH+c2SZRSVlOKozJrhaRxhZdTJwPRp01j86IP8v9vv4Laf/ge/fKiD0yeHWTAzxOhSxXBfl/3JWXJErC0JAVvqBY+/mGDlhiQpWcKPfvQtrv30p7CsobmLG3TxVhoe25EkK6oZkyfxjvLC7XneoH04IRFm1VPLadi1i+WPPMIHPvkpIP3F8yciWimyc3I495J3sfa5ZwciCyEEp54xl5opU06YAQ0nMzmxGLd/7zY+cPn7+Mv//Y2Vq1bzjfs2D7vfhxCCRDJBZ0cnRUVFw16VptEYhsH06Wfx6Rtmc+WHP8j42tohPYa0iPeW/S5jhUDky2H90JVSPPnPh5FSsH7NanZt28a4SZNOnmh5kHFdlzMXXMA9P7iDeH9Zp9aKsxZcQDQry6/VD8h4hBDMmjmTWTNn4jgOra2twx7whEIhHl28mM/ffDOLH/k7paWlwx6BSykpLi4ekhTJ4UjPgqUc/tpZwzRp2rOHF1c8i2WH6Gpv57mlS5kwbVog3seI53mMrqlhyowZvPDEE1iWRXZuHvMWLMA9CQYvn4xYlkV5eflwHwYAhQUFCCkpKyujpKRkuA9n2DlhS/JN02TtiudobmgYuDI+t3QJiXg8w1vxhw+tFNHsbM48/wLAj8Qnn3Ya4yZOOuyA5oCAwUQP/BEAJ6x4C5TyePrRRwZurUzLYv2aVeypq8MwR0SRTUbiui7zL7iQWG4enuty9oUXEY5Ehv22OiDgZOOEFG/DNGjcvYdVy586ZGGjvbWV5Y8+ghmI9zHjuS7VtbVMPu00olnZzH3necOeezweHKXxBnPYakDAEHFCqphhGLz64locxyW/qIje7m6i2dlkZcd4de1a4n19/YttmfmlFVJimqbfKDMMGaCwhHMWLgRg2uyZgO/zMpRofbBc81g8ZQ5M0LpgXIjx+Sfk1yDgBOeEPGudVIpTz5jLb5Y8TlN9PV/82FVcee31XHrVR9D9FrSZKtyWbdPb3c26det4/onH2bVt25Afg5SS1qYmGuvr+eJHPzrkhlxaa/IKCjjjnedx6pw5lFRU4qRSR/2ZCgGnlpmUh4anWiAg4HgYdPHW+OZUw6mNWmsKiooorajEtCykEOQXlzB20nhS8VRG3uYLIbBDIV5ZvZp///ItvPT885RXVVFeXT0sNa/SMKiuqaG1qWnI9y2EYMeWzfz9978jp6CAz3z1a1x21UeQhnHUFxJPnfTWJgEZyqCLtyFgarFFOKKGVcCVUniug+e5/nxR5eE5KmOFW0rJ7//zP7n7W1+nYsxYfvSH+5gx70wKiosz9i7iWBFCkOjro27zJn5399188zPX8fyTT3DrnT8mlpt7VJ+xFIFwB2Qmgy7eUsCCMTa7Eqmj7q4MODx2KMySB/7KD75yC+/7+DXc+K1vk19cjJNM4qQyqx19sDAti6kzZnHbL+5h3vnn892bbiQ7FuNrP7kbIY5sspHW0NijKJSKmH1Crt0HnMCkJeettP8IIprjxzBN9u7eyQ+/+mXOOPc8vvzDH2GZJsmTvJtRa00qlUQIweXXfJzuzk6+/8XPM/ed57Pw8stJJd7a01Tgn6N/3ZiAGsm8CntoDjwgYJBIW7gRCPfgYBgG9//613Ts38/Nt30X27aHvZtRCpDaQyoXQwzv/FGtNX29CT74yU8xf+FF/Pf3v0d3R8fbrgMcqDb54NSTewxaQOaSFvF2vX6T+4DjwvcOj7P80UdY8O73MOnU04Y9TSKUR31jF8s29fLYxj5e3dmFE08Mqx2C1ppwNMLl13yC+rod7KmrQx6B34QQUByVZAXTYwIykLSMQbtvQx9b93uYQRrxuJBS0tLURFN9PafNOxM5zN6lBprte3v45y6D9R02m7ttlu21eW5HHC+ZGlYBd1Ipppw2g6xYNiufevKIG7GUDjquAzKTQZdXU8I51SHKY0dvBxtwKELK/hSAoLJ6eGdkGlLQ25dk9T5JQhtYEkwBQgo2dIZoak8Oqy+2UorC0lIi0Sx6u7uP+EJiyCDFF5CZpCU2HpdnkBsWw1oqeKIghBh4DMv+8QVub5fHkp3Q5piY4tB/VwiebjRo7j6yodPpQimFRiOO8CqiNKxscKjvybzy0YCAtIj3gWqTgMFBMzwDJKTwRxiuaXBZvsOlI+GfMK89FA2YQlNiu7xQ75FSw28HfCQI/N9jV6dHeyJzRrcFBBwgLeItg9FSGY8poSOueWxLipZeTWlMklKCgpBHSCpcDZ72OxRrs5OcUxMibMLqejcjPnuNf0fxvklhpp3kw4cDMpO01Hlv2u+SkJr8SJA6yTQE/fP5WjxWNbhMKjHIC0tW7nHJsgXzq228RJz1LYK4J6jJUUwqD2NHwsyrVjy8yaEqV1GVJ/GCgDYgIG0Muni7Cp6rT1GRLyiKGriBeGcMUkDKhef3uOzrVZxXY5FlCx7Z7FCUJVAKyvNtBDaVRQ5aKQzbQgsDT2liIcHMSoMX9rgUZ9nY5vB63AQEnMikpdrk8skRagoM3CDyyhgMCU3din9s8m0NLp1kU5IteWqHy7gCg7gDtUUSKbS/nmHZiFAYxUFrXU/B+EKDvIhgTYObEWbxmZCfDwg4HGn5fsUsgRW4bGYEB/LTaxtcntrhMr3U4LxxJlEbnt3lEjKgMCrwlKY610AduCBr/aZh9bxqk/ouxc52hTFCFVwASsHDW5NsbgtGuAVkHmn5ammCxodMwJTQmdQ8usWhvktz4XiLySX+gIdN+zwauxRnjTbZ3OoxodjAMt7+c1Uasm3B6aNMVjW49KX0iI1uNbB1v0dLPLhFDMg80iLegqDxYSQjhZ8m2bZf8ehmh8KoYNEEi/yIQGnY36dZ3eBy9liTnpSmJ6kZm2/4C5BC+NVEykN4DgZv9DZxFYzLlxRFBasbvBFdfWIElVEBGcqgL1gqDU/tSWGHFaNyZFDvPcIwBCQ8v6SvsduPrKvyJKp/KIHrwVM7HKaVmlTlShZvdRhbIIlavigLz2XPvh62tUFKQ0UUJlaEscKhQ7IoCjijyuKhTSm2tXrUFhlB9UlAwCCSFvFe1+wwtkhQnRuI90hBAFJCc7fm6V0OuSHBxRMtsm0xsLBsAM/tdojZglPKDVp6NC09mtNHmX5dtNBsa+jm8b0WceWnV7Z0wf5EnPm1AmmHBvLgWkPUhjlVJi/sdinLkUStoHQ0IGCwSEvaxJTBrehwIoTAkP5D9qc5ELCu0ePx7SkmFxssqLWIWr5wC/zPbGOLR1tcc85YC0vChhaPMfmS3LAg5Qnau5Ks2mcc4m0iJWzoDNHYlsAQhyqzp2BMvqQsR7ByT2ZUnwQEZAon5ADikxkhwEkkaO1K4SrIDUuMcJjn9igcpbl4ok1RlsR7zS2Rq2Bvp2LlHpdZlSZ7uxVdCc3mFo+iLL/O2/HAcTVt7hu9TTwt6EuBROO9brVDaThjlMWDm1JsbvWYVByUkAYEDAaBeJ9ACCHo7epl+Q6HHX02GsgxFSEjQX7MYkaFSVtcsatDEXc0PSnti7LS7OtRRC1BXZsiy4amHkVxlmByiUnIAFMKtuzz2N+rSGhxqEQLqO8zGe1AxOQQN0mtIWz65YPP7nSpyJFk2yJIpwUEHCfBneyJggDlpHhhj8PW3pA/tFgIujyDdkcST3q82OBR16boTipCJozOk0wvM/CUoKbA4IPTQ1w22eLssX5KZXalyZQSSUFU8mKjS9yTVOf4rmOe9iNuT8G0nCQhW/LPzQ6tffoNPu6ehqpcSVWe5PndI6um2gtM1AIylCDyPkEQCHoTLrt7zUNsWSXgKoGBx6nlBpU50q/X1n6++qVGD4HmzNE2UgIC6vZ72AZU5kg2tyhW7HaZWCypyDF5dqfmwuokde2auCsZl6uYVB4iFA3zarPH4q0pZlWaTCw2/EEH/cLoKZhVafLwphSbWjymlAxv+kTjp5jmjrIYHQs6ygIyj0C8TyCEePNbKU8L1jV6rK53qSk0qC0y6Epo1je5LKi1CJm+wLoaNrV4TC8zWLHHZWe74qwxJqPzJA9uSjGx2GRSWYiaUge0Rlomqt/bZFqpQX5E8MxOl9Y+xZxRFqY8OK0mZPjpkyfrXMpj/kLocEa9UsC8KovqUCDeAZlHemZYquBWdKjRWhON2EzOcwbEUuOLdpap8DRMKjGYO9qiuUfx6OYUD29KMTbfoCRLgvYrTuo7Fb0pzav7FPv7NBdPtKgtkGzc56EUTD4QMVs22CEUciC8dhVU5EgumWTRlYBHNqfoTuqBFnlP+/9eUyhZsdtF6+Fv5jpQ3x4QkGkMunhLAdNLLAqjQY33UCMMk1NHhZmRn8BGIbWiPJQix9JUF9qsbXDRSnPRBBvLEORHBM09mgc3OWzbr0i48EqzR58D1bmSi8ZbxEKC9rhmfZPHrEq/0kTDm3qbeAqiluDC8RblMT8PvrvjoMeJp2BGhUnC1Wxs8Ybc+0RKiWXbfleoDoypAjKXQU+bSAHnjwmxK54MxHuI0VpjR8PMqzWY2p3EU5qcqEVdt0VDt2ZOlckzu1zK2xRSwKWTbZTW7OlUbNzn8ewuh14Hzh1nMq3UGPj8XtzrUZItGJX7Go9u0f/HYQRc9UfUc6pMCqIez+x0mFxscGq5CQIsAWdWWyyrcyjLlr7xVbrOFSF8wbYslFJ07N/PhhfXMmXGTLJyctjfpyg1NVEzUPGAzCItOW+vvxoh+DoMPVqDYVkUFNoDPxtnKza0OOSEDMbkS57Z6fKBU2xCJoCgICLRWtHr6P5FSo+GTjVgUtXco7hoguXrtBBIFNr10FphmH7O+/Vj2jR+GqWm0KAgIlm+06Glz2H+aIuoBWUxwcQiP6++aILljyUblDfAX7yVEuyQ3/HZvn8/L698gWeXLOG5x5fS2d7G75Y9RaywiH+80gtjTGaXBss/AZlF2s7YQLiHDz+jcVAKI5ZgbIFkZb2L42mmlRmsbfDIjwj2dChebvIYlSNJuJIFNRYI37RqTYNLU7emOk/2d2sCrsOOxl62tIOjBRVRzZRym1BW9LBzNj0F+RHBogk2z+9xeWRLirPHWJRlC04pM6jv8nil2eO08kGqPumfaN/V2cPKJ5/kmSWP8cITT1C/cwfJRALDMIjl5tHX3U1vZwfvLPOotDTd3WLIc9/RaJRkIoEIvi0Bx0BaxNtR/uLUcE4SDziI0lBTYLCqPsWp5QZnj/ErPv53XYr8iOCCWostrR6jciXZIT+FMavSwJTgeB5hEx7alKQyRxJ14zzfbJHUBkJo6nqgLZHg3PESIxQ+vID3L4aeM8Zkwz6PJdtSzKwwmVpqcFa1xZJtDuUxQUmWPO70iWXbLP3733jwvvvYvX0bnudi2TaGYRKORABIJhPcdOWHMAw/hy/F8HiuSCnZ19xMJBJBqaDtNODoGHTx9jT8ZWOcklyGvZb3ZEUc8DPBj8KFgO1tvjVr1BI0dvkdlWETYiGBKWFPp+L8Gmsgz90R17zS7DF/jElVjmR/XLNhb4IX9pm4QmL2+5hoAZu7Q4xtTTG2IoQpD0y773/0H5Nf+QJTSg0KooKnd7q09mrOGm0ytcRgxW6XSybaSHF86RPleYyfMo0J06ax7KEH2frqK3R3dqKVxjRNEALbsvjgJz9FQUkJllYUWeawxb5CCPLy8ohGI8N0BAGZyqCLtyHg9AqLuPDStwgV8KZIAcm+OE2dKRKeoDQq6CBMXZtmQa3FMzsdtrQIppcZ1BQaPFnn8O3bf85jP/w8337Ndm753aPUzDyT0bl+NFyUJZmcr3hln2Dlr77L2vvuBOCav24jFCtgdYvBxq4U2SHB8/f9lD98/+uHHNe/3/sbLrr8A3gKymKSSybaLN/p8PBmh3PG+pN3XmpyOb3SPHjBF4dfEH0rPNdj7MQJfObLt3DlZ/6VzevX8/yyx3lmyWNsefllujo7sUMhLv7ghxhdO5YsDWXBHWJABpKWtMnEApNdCXVC238eGEDw+jTBm/18qI6ps6OHJ3d67I77C4zZpiJiJJhVFWJ3hyLuwvQyg+llfjXJ3GqT7Rdfw6mnTeXfP7JwYFsbtjZwylx/GHFnQtPngPIMQoaiZctLA89r372FiqlncEaJS1ZuhH09ijkfvhFROpHf3/zBged1xDVxRxO1/Pcny4aF4y3WNLg8stlhconBllaPqlxNWbbEc13QGmGaqDepajn8mwCu65JUflpi+uzZnDJnDh+78Sa2vrqeZxYvZt0LL+C6Dn1xh40tDrOLQpRFg0adgMwiLeKt9MFysZGOEAIh/UYTpRRCSoQQKM/DNE2kYeB5ni8m/Ugp6evuRgPR7OwBofaNoTqx7BB2JIIeyjxmv7fJqnqXnX0hrP5W9z7PQKPY0OxQmR/ivHEmrzR7VMQESc9vyhFAX8Ucaueez7bnHwcg1VZPe1yTZQsqciSxkCTLMlizM86e1csGdquUZkpukqqiKGZIUpItmIbBOWPfxe9v9p8Tzckj+/T3sHirg20IirMEpdmS/IhgTpVJSbZiTYOHpwUr9ziclp9kZ7sipWBsrqCqJIJhWUcVDAj8C6iTSgEgpWDazFlMP30OyXgcrRSu47Ku2aEybAXiHZBxpEW8Zf9oqZEeeQshSMbj9HV3obUmp6CAVCJBX3cPuYWFbN/wKq2NjZRVVTFm4iS09kd+JRNxVi1byqxzz3v9BlGe4vklj3HmwkWYtj1kEbhE0JVw2d1nHtL4IgXEPUnK07THFQ1dmtZezVM7XLJDfrXJKWUGRdmCFyeeNiDeU0sNzq+xBvLPhoCXGhWrn3nikP2WdLzK3HFnIW37EJvZba+sH/j7dV/6IhdPtOlNadr6NM09ivXNLkkXLANKsyVj8wWbWhX7ulz+2WGQ0BYAmzo0s3t7mT0uG4zjO10dxwHHQUqJ7l+k/MCUCLVR67i2GxAwHKSlv21Xp6IrOXIHzw4gBNrz+MGXvsiDv/stth1i9VNP8fff3gtK09HUxP69DYSj0YGXmJbFikcfJa+4hNzCwkOibq0U+aWlRHNyWP7PhzCtoRMFf9JN/xCMw1wvQlIzrkCyoNZibrVJfsTPe1fkSOZUm0wuNphclTfw/L7uLlzll/oJ/NLBV5o9utctOWS7MSv1hhFoAHWbNwGQk5fHuz96NQJ/cXRsgWRetcnFE20uHG8xs8LEloK2ONhC4WiBg8QU/rAHJQUvtdns70ggB2nCx8AFVfhVMCP+PA0IOAyDLt6u0jy6PcGeDjXiSwW1UuQVF5FbVMzkWbNBCCzT5KM3fZ62/S1oNMIwKC6vAEAISW9XJ88tW8rYyVNw+1MpAkj09aE8D89xqJk6jVVPPkmir+8Nw3nT9rtoTSRiMyXXGUhbHfA2sYTCEQavNCvWN3kURgU9KXhul8v4IokhfJGW+ZUD21u7ci2G9AcVN/doVux2mZ7Txd/vvYeF77/84H79nb/heP7+h98B8IkvfJG8ggIOPM1TfvMOGnJCguo8yfgiv8sy5foOiK99xySQ0oLupEKM9Fu5gIAhZNDF25SCD0+NUFsoR3yZoJ82SZDo7SGWm8v6Fc8xZtJkItkxQuEIk2adzoyzz0FIidYawzTYU1eH53p+1K0UGljyl/9lzRPL+Od9f0AaBjm5ecT7+mio2440hi6XKgyDU0dFmJWfICI9DBRVkSSzSzwsQ3LmaBMp/EXIjrhvQDUqx6/nburRJLMqBrbVFvdTHL1JzVM7HE4rN1j5t98C8OFrrxt43sqnnnzDcWxev57nli4lJy+P937s6kP+TfZHu56GunbFkq0Oj2x26ExoZpYqckyX1542GjDRRK30hMjB5SAgU0lLzjtmC9rUCA+7AYQg0duLm0rR1dpCbmERlbW1uE6KvOJiAHILCvA8D/AXKpv37MG0TKQQeABas/hvf+PT/3Yr46ZNRyuFaVm4jkP9zp3UTj/lkMXOdKI12NEQ88YbTO1N4XgQi9hEIiFat7o0dXucPcakO+U7/jV0KR7bmmJ8ocGuDsW4goPX8lhI8ESdgxAwJk9SYXXyPz/8IWcuWMCMeWdSNXYce3bUHfY4fvmjHwAHo+4Dw4/R0JHQbG/z2N3h+6uMzZfMqTKJhQRCSXa199LertHyYNXOpJwURbnRQfXKEfh3AQ9uS3BBlWBqYZD3Dsgs0pLzPmBHOtIRQpBKJmlpbKK3u4eJM2cNCK1WCq3UgHAfwHO9QxYhQ+Ewl1xxJffe+UNKKivRWiMNE2laJBOJIU+oag0YJnl5WRQXZhGKRNAIZlaYbNyn6EhoEo5GaZhQZJBlCeraPPZ0euRPOmNgO+uWL0UpaO3RTCk1+Otv7qWro4NPf/nfkGiqx40FoLOt7ZDU0IsrnuOx+/+PqrHj+OTNn8eUfppkZ5ti6XaHJVt9m9jTR5lcMtHm1HKTLMvvzKnvFnQpm3MrHMZEU1SGHM4uSTJ/XAgjFBr0xV8N7OhQtCUy4WwNCDiUk7vaBIjH+ygqLeX0885HGgbqdWL9WrTW5BQWkkwkB4Tk2Uf+yfxFi1iz/An272umrKoaz3ORUlBQVDS05YKvQb0mTNVASbagMlfyUqOsKIB+AAAdLUlEQVTfaVmZI5lQZPD4Nj+6Pr/Goi916DayQv5r/vbMNu782tc4a8EFzDz9dLbXd9LS479Pr65dS7IvTigaQWvND77yJQC+94tf0PmaKNsQMLbA4Iwqk5gtQBzMfwt8S4WV9Q5TSi2mlthMTjpopbFtC92ftkoHA4u8AQEZxqBH3lrD8w0OTd1qxH8plNZEsrK57mvfIK+o6C2FG0ApRWllJclEAs/zEFKSjMdZ88QyFn7gQxSXV6CVIhmPo5RHVU3tkKVM3g6lYUa5QX2HYlurx8Rig8Ko774XCwkmFRvMrDSYMmPmwGvijsY24KGf+r2XN337O2yo72FxvY1ZMm7geU/XJfGSSR6495e8unYtH/zsLewvPp0lWx26kzBnlF9dckqZQZbte6d4r7mmGRJebfawpGBikcRRAtMOYYXDKCFHfBAQEDAcpMXbZOXeFGOLBJU5I3sgg1aKWG4uufn5A5Ujb4XneZSNGkV1TQ3tLfsoKCnlHe9+D04qiWnZvvgLQXdHB6OqR1NQWooaIcqjtS/SpTHJvh5FfkSwr0fTnfQHBqc8sA2I5BYMvKaidxPrN3eyfslfmfHhz9MQHs++/QoPSU5Z9cDzVm/Zi9Xp8YOvfZ1ILI/ad19PWUwyr9ogOwRo/7w43AK2FNAe12xscVlQYw90xA9Hh2pAQCaRlpy3kUG1s1rrN+S13+LJWKEQ8y9cyMYXX8QwTTzXRcqD6RYpJdtfeZl5F1zo13mPEBESQMKF9rgi7mp2tPmWr6eW+4uve7sV7XFN3MgZeI3t9fDnb11PLC+P677wOdqTgnbHfMMdVd/+Zu76+lfo7ezgqz/7JR86o4zpZQZRy4+w387jZlW9y7h8g+Ls4Z1pGRCQSQzxEKrhRIDov6ocx8NxHKbPm0duTg77m5sQhjHwb8Iw6GhtITuWwynzzvSj+ePcH+I4bfb6kdJ3FgybgnPGWDy1w8FVmtPKDcYXSdbtdXl8u8Ops2cMvObnd3yfPXV1fOPHP+HMScWMyZMYKJQWlE2dM/C8V/5+D3Url/HpL32J9753EeCL9tsdtiGhrk3RmdCcWm4Ewh0QcBScBOIt/IcY+NsgPART5s4lOycXlBr4OUoRyc5m6rx56EHb1wENP75bGVfB5haPqSUG5TFB0oWSbIllQFWOpLFbU5wlKY8d3M9zS5dy1oIFzL3kcv6xMUVrQjK/3CUi3UOi6W1PPsCosWO56oYbj9hJUghIuJoXG11mVZqEreHx1A4IyFRO7NlPQuCmUiQTcX7zk7t45C9/Htzqj8NZlh4Q2UFQIiEE8Xgfvd09JOLH3q1pSNjR7i8gV+VJXtjjUpwlaOjyo96XGj1sw88/106ZeshrP/z1u3hsq8OEIoNTyw2klhSEe3mms5AHX/O8u+77E3n5BRwpUsC6vR45IcGYfHnIAuZQ4ih9iCdLQECmcEKLt+e6lFVVcf2/3Upba8uQdjsOBlJK2lpa2Lt7N8ZxmDIpDRub/QqTtrhmV7vikkkW65s8/rHBITciuGSSzfIdDiV29sDrLr3p2+wPV/GO0SYVMV9glTAoL83hA+dP5jv9z7vptu8xYdr0I/+9BLT0auraPRZNsN/+BWmgfxwnM8tNKrMz67wICIATXLy11oTCYf7llluGzGNkMDElbFy/gacffRTTto6pAkMK35ukz9WMzZcs2eowqcQgPyrICQv29SrOGmNTmePbuUbyzuDRvT2s2O1SkiU4o8oibB1aKaI0IE3Wdfcd0++lNbywx2FyiW+QNVw2ClLA+eNCVNsn9Ncg4ARl0M/aA1PDR0r+UmtNIp4Y7sM4JkzL79LU6GNetBTAK00u4wsNdndoHAWnlBns6dBs2OcxpcRga6vHmHzJxCKDhzY57OpQzKgwqS30Sz0HM6VhStiwz8NVMLXEGLZ0yQFcj4H1iYCATGLQFywNARMKTHIjQXPFcCOFbzDVntCMypW8uNfljCqT7qTmyTqHGRUm7xxn0ZXUrGv0eHGvh9Ka8UUGE4v8NMlgfoZSQHdS83Kjx+xKE0sOv41CBt6QBQQAaRBvKWDhuBDVucc/CTzg+JACNu7zGJ0v2drqUZwlKM6SLNnmUFsomVDkV5vkhgXLtjtU5gouHG+zs90jmYbGUCFgzV6X8hzJqJzhPz+0hu6UJjXcBxIQcAykrVQw+DoML0JAV1LT1KPID0t2dypmVpo8WedQnOU7+XUnNY9ucehzNNV5Elv6lR/gT5M3BvHsMIQ/cq2xSzOz0hj280Pg5+7v35BgfaszzEcTEHD0pG2lJrgbHV4M4U+/KYhI6to8JhcbbGrxSClYMMakrk2xYrfL6DzJGVUWzT2KZ3a6jC0wmFhksLHFZXT+4FSCCPx1kJV7XE4rN8i2xbDnujX+nckFNTbjc4/ua6CUoq6ujmQyiWmaFBQUUNxvITzYNDc309DQwGmnnYaUJ0FbRsARk5azwTmCluiA9CGF34Szu8PDMhgYZ7a3S3H2aJMVu11W1bvMrTI5c7SJEFAekxREBS81uowvMuhzoLlncKYhGRJebnYJmYLxRcO/SHkAIWBUzCDHPrqvgZSSNWvWcP3117Nr1y5uvfVW7r///rQc465du7j99tuP3MIh4KQhLcZUf94QpzQPppQYI36azomGFNDb3cemFpfeuIFyoDhmsr3NY3qpwRN1LhELLp5okW0fLNMTAmZVmjy6xWFSsWZcvsHGfR7l2cd3fT+waLqlRXF+rYUUjKg2+GM9lsmTJ1NUVMSFF15IX18fd955J+9///sB2L17N+3t7UycOJFXX32VvLw8TNOkqamJadOmsWvXLoqLi7Ftm7q6OsrKyigtLWXbtm2kUilisRijR49m27ZtdHZ2EolEBvE3DjhRGHTxlsDUYhPP9EbUl/RkQAhBW1s3y3Yo9iZtpICQo+l1HIpzLNY1eUwqNphW6jelvL52uyAiGFcgWd3gR+UPb/boSGhyw8dnGLWq3mVsgaQkKnBH2DlhyGNL8QkhSCaTbN26lccff5wrrrgCgFWrVtHc3MyWLVtYvHgxhmGQSCR473vfy3e+8x3+/Oc/8/jjj7No0SL++Mc/8s53vpPbbruNa6+9lptvvplzzjmHWbNm8fLLL9PZ2Uk0GqWjoyMj+xQC0sugp02EgJllFiXZI9sO9kRDCIGXSrGqQdGQDGFKP+pNaUG3I3FTDgtqLU4pMwYGFL8eT8P0UoOWXk1XUlMek2xu8Y7Zl92UUNfm0ZXQnFpmjLhUmtawrsmlqffYUhJaa+6//35aW1u57jp/rucDDzxAd3c3U6ZMoaKigssvv5zt27eTlZUF+OJeU1NDbW0t5557Llprdu/eTVFREdXV1Vx11VUsWrSIX//618ydO5e5c+dSWFiIGqahHgEjl7TkvN9MHALShwD6Ei71fQaG1If83NUCxxP0JvXAzw6H1hC1BdNLDVbXe0wsMtjTqehNHX09tBAQd+DFvd5B46lj+s0GGSGQUiL60zer9qbY03304q21JhKJcMstt2BZFn/+85/7Ny+wLIuLLrqIRYsWUV1dTUFBAffccw8f+9jHuOuuu5g0aRKtra3cf//9jB49mqKiIgBisRiGYeB5Ht3d3aRSKUzTxMgwW4eAoSEt4j3gshcwZGjAkAJb6sM21mRbHi/scVm+wyXl8aZlgJ7yZ1t6GtoTmvyIYHubd9QLl4aAF/e65IWH13gKfEE1DINQOIxpGPR0deF5finkldMjzCg5+uHDL730Eu3t7dTX1/P973+fv/zlLyxevJjLLruMu+++mxtvvJGXX34ZgEWLFlFQUMCll17K1KlTqaqqwjAMGhsbeeCBB/A8j4cffpgdO3awdetWQqEQ8+fP5/vf/z5Lly6ltbWVzs7OwX5bAjIcodMwsmRLp0ObcsgaKdFWhmJaFptffpnr33sZt//Pr5l73nk4qdSbPl9oj7V13TzXEvb/Hz8VUmY7XDrRgHCUFbscOhKaOVUm1Xl+auv1Z4AhYXeHYlW9y2nlJuubXS6ZaGMcobW4IfxKlSfqXC6aYB13zvxIEELgui7vnT2Dy676CJ/95jdJJR1M00R5Hi3NTax99lmeXvwYG19cy51/+BOjamqIohkbto8q2NBa09XVheu6hMNhsrKy6OrqwnEcCgsL2bNnD52dnUyePBnDMHAcB9d1iUQixOPxgQXI7u5utNbYto3jODiOg2VZxGIxPM/jmWeeobi4mOzsbCoqKjDNk9uD5ZHHHuOaq6/h5XUvUVJSMtyHM+wM+tngKnhwa4JRBTC9zAyqTYYSaXBKVQRIsKHdwFFQHFKcMUoSyY76g4ZrLba2KlbsctndIZkzysA2D6279hRU5Uo2twja4gpTCnZ3KGoK3z6CPnDBWN3g+gZYQ208pf2LniWgsbmJtStW8Ozix1i1/CmaGxpIJhLkFRYSioSIhi3C+ujvEoUQ5ObmHvKznJyDE4iqqqqoqqoa+H/LsrAsP7p/beVILBYb+Hs4HD5ke4Zh8I53vOMoj+zERgoR2Bm8hkEXb1PCu8aHaVfOiKnnPVnQGsxQmBljTaaUp9BKY1k2Vtg+JMKeWCwpz7F4frfLQ5sczqgyGZUr3zD9ZlalyePbHUbnSba0eozNf/ss24Fhwo43PMZTpmWx9tlnueUTn+SFJ59gX2MjbiqFaVlIwyAcjeK6Lnfc8iWyYjFsoYlKGdwhjnAMw2Dnzp0kEplpMpcO0nIfVpYlSSWClMlwoLUGaRDOig787PVDkF0F2bZgQa3F5haPp3f6nZazKk1sw4+clYaCqKAqV9IR1yRcv9W+IvbmniQHjKfWN3vMH+0bTw11hYkQ0Nvdjes4dHd24joOQsr+RUo/bNNa09xQjx0K09TjURiW5IYCI7WRjhCC8847n1AoNNyHMiJIi3hrQBEsWg4nb7eUcSAHPanEoCJHsmK3y8ObU5w52qIs2091KA3Tywwe2+IQtgRbWz0qYm8efQtgzV6P8pikMnd4FimdlMP8Cxdyw9dv5ZW1L7Hyyad4+rFHeHXtWrra29BAbn4Bd9z7Wypravn1yl7eNy7MmeUndz45IPNIyxkrhf8IIpmRj6cgFhJcON5iY4vHsm0pxheZnFpuYAo/Qp9QbLBhn0dPkjdt2jEk1Hcomrr8KT3D9tkL8DwXpWD81GlMmn4qV1x7LTs2b2bFE8t4+rFH2Ll1K57r4DkuynXROsjvBWQegz+MQcO6ZhfX1BRnpb/KIOD4OfAZ+cOJJSt2uTy8yWNetUlZTDKpyGBHm0d7XLN1v8ecUeYhn6sAHA9W73U5pdwgFhq+6TivxXUcXHzHwPFTpzLxlFP48LXXsXv7dkrKKwK/kICMZtDrvD0NT+5O0tB17J15AcODqyAvLLhogkVNocGyOoe1e11MA2ZUmHgK6toUvY4+ZKL9gUVKSwomFI1MPxvHcUgmEgghGDdpEnY4fExj5QICRgppadI50JodkHmo/olrp5QZXDjepqFL8+BGh4glGJ0v2d+n2dmmkJ6Ll0xgCkV7QrOpxeX0UeaguBCmE601ruMEOb2AjCdYpQk4LK7yjaouGm+xvtnl8W0OxdmSsAnrG5LU73PpcwW1uQkaUiHGFliUZo+MdElAwMlAIN4Bb4rS/UZjFSajcjWr97gYWtGakDQl/EENu/s0hbbLWdUGSgceHAEBQ0UwmiPgbXEVlGRLzqr0MPBQgCn8h5SCTtegvTOekd1vrtZvqIMPCMgEAvEOOCKUBs9x6XXlISLtjzgTdCU1IoNEUOPfVcypsKiKBTegAZlHIN4BR4TWELJNci0PpQ+qtwYMof0OxQwLvaWA+dU2o3OCdE9A5pEW8fZUsJh/oqG1JhINMavEIyxcfy6mBqU0k3OSlOaHDhH1TCHoQwjIVAb9fvHAUNdsWwfeJicYCkFNRYyo3currR4JT1CTo6gpjWCE7KBuOiBgCBl08TYEvHdSmN3xVOAqeAKipUFFaQ7lhS5aa6RpooTMWOFOehpXaaygMSEgw0hL2kRr35gq4MREadCmCZaNIjNNbAR+eu9/X0nwcos73IcTEHDUBMvsAceGHvgjI9H4C5ZnVVuMCRYsAzKQ9FjCavprsdKx9YB0Ig0D0zTRWqM8BWiUUodNi9ihEFopHMc3f0L4UbiQklAoRCqVQo1g8ychYHyhSWEoKLoKyDwGXbw9DX/ZlKAoRzOxeOgnqQQcO5Zts69+Dy+/8DyRSITSqmrCWdnkFhQQycoaEHAhBMrz+Ouv/ofisnLOXHgRSimU62KYJu0t+3jwD3/gvMsuo6qmdkS79ykVxBkBmcmghxwSGJ0riYVEJqZCT1os2+ah3/+W6999KfsaGsgvKublF17gO9d/mt6uLuxQCMuykFJi2jae5/LX3/yaFcuWEgpbtO5t4K+//iXRaIiWxr389u6fUF9Xh2GafjRvWRgjcICulIFwB2QmaSkVPHNUiF3xZFBDmyFYts3ap5fz1Ws/zQ23fo2rv/gFkkmXqWfMRUpBKplgw+pVeJ5H5dhxNO3ZQ0FRIZ+86QuUjx5Ne0sbP/7arXR2dXH+e95HOBzh1h/eyfjp0wFob26mfvs2ysaMobi8AqVGxu2Y1rCxxSVaaFISCVInAZlFmpp09JDPLgw4VgQC+L9f/wrXdTn9nHfgOArXcXBSKRZd+RHKq6r53d13c82ihdz7gzv4ytUfZefGjfy/W77An37+3/R2d/P040tpa2lh55bNbFy7lluu+Tivrl7N1vUvc/vnb2LdqpVcdc58GnfvHhERuMCvmnlmd4qdnUG1SUDmkb4xaGRyLcLJgxD+xJmO/fuxTJNoVtZAZKy1xjAMIllhRo0fT7y3l4s+dAXv+5dPUVxWTl5BIYl4H1XjRpNbUMDYiRM5/4LzWb1qLcIw0Erxu7t/SiqZ4D1Xf4LWxkZ/gMMIyKcdqDb50NQIE7Ot4T6cgICjJi2Rd1cCep10bDlgsNFaY4VCVI0bh+O6NNXXD0TGByau+9VDGjsSobKmltETJ2GYJrp/qU8p0EqhlML1N4oQAtdxaG1uZn9LK3kF+Xz5xz+mrKpqxCxgCgE5IUFopE+QCAg4DGkR70fqEqxucIJpOoOE4ODIsXTgui5X/esNVFZV8b/3/IKejg6kYdDR2spz/3yYRG+cRF8fAMrz8FzXnw+ZclDKF2JpGPR1ddHctI9UIoHXX3kybfZs1q1ayd9+cy8bVq+hc38rQqYnv3y075DWYGSYmVZAwAHSkjZ5V02Y3YlgwXIw0Pj11k4qlTYB91yX6prx/OLBh/ndT3/Cf37r64wdPwEhJaefex6e64JWnH72OTTu3EnerFm0NO5lzIQJxPIL6O7o4JobP8cLTz5Jy969tLe2MPOs+bS37efqm26mY/9+HvzTH9Guy8Irrkxb2kRpjdYafYQnnhQQDiKMgAxF6DSZUtTFk3R7KijDOg6kYdDe2soHzzyDqz93M5/4/OeJ98XTtj/TshBC0N3ehgaisZyBmm7TtjGkJJVM9td7C+xwf5NOKoVlh/pTJSk0fgOPm0qhlMI0LZTnIgwDz3XT4oNiWhZb1q/nE4su5Jbb7+B9V19DMpF40+dLAS83eeQaJpeMCQ/68QQEpJu01UdlGUHL8fGilSKvsJDaKVNZ8fhSkolketMn/RUmkVgO0ViOn8fuz0+7qRTJROI1wqtJJRI4qRQATipJKpnwuzGVIhmP43keWmscJ4Wn/AqWdBlYmZbJK2vW4PVXzLjuW1eQeBo27HPpTIyMssWAgKMlbeKdY8og532caK2xbZuLP/AhVix7nKceeYRQOP1Rou4X4EzBMEya6xv4zU/uYvb8sykqK3vLtnwpoK1P05WA04rtITzSgIDBI23inXRg6VaXtj4diPhxkEqmuOgDH2D+hQu589avUL9z55AIeKZgmCamZfKz791Ga1MTn/vOdwmFw28Z4QtgfbNLQVhSkxfcIQZkJmnLeSc8zb+v7CYrAgvHW8Hi5XFg2TbbN27kXy5eSG5BId/8j58xe/58lFIjpuxuqJFSYloGDTt28Z/fvY1//OH3fPXOu7jiuutJxt98XcAQsK9Xc/8rSa6anMW88iDyDshM0ibeAGuaU/zylV4unWwzOk/iZs6d+IjDsmzWrXyBO770RbZveJVLr/wI77j4EiZOn5axgxCOFSEErc3NrFi2jPt//Su6Ojq4+bvf5d1XfRTgTd8Pv+QSHtrsoF344uwcrKArPiBDSat4exruebmXui6H9061yQmJoG3+OLBDIbo6Ovj9f/4HD/7h9+xv2YdpmmldxByJ+IugDtHsbGadNZ8bvvFNaiZNfk0lzOExBKxucFld73HDjCwm5gedlQGZS1rFG6A7pfnx2m6UUFw6OYRtBENfjwcpJYZp0tPVxYYXX2Tf3oaTLvLWWhPLzWXSqadRVlkJ/d2cb4UhYGubxyObU3xoQhbnVYeG6GgDAtJD2sUbYE+3x90vdpMbFVxQa5FlBRH48SKkxDRNjJO0JFNpjes4vg/LkZzCAjp6Id4nWDA6TNARH5DpDIl4A+zscvnl+j5SWnHxJJvCiAgi8IC0IsXBeap5psGokB2IdsAJw5CJN/+/vbP5baMI4/Azu2t7NxuncVJCbFE+qlARKYDEkXLiwAEJLkhI0CK48SfxT3ChQqICtYceuHBAPSAaQlEpKE1CFDuN7V3vx7wc1vF6XdsJBwhO5zmOvP553vG+89vZ+QD2A82N+wHrqzbznqAlf4n0lD35G/5lRGD7SLPoWrxcLbFccsxqX8O54j9N3sdogWaSsB8nBKkQJILnqMJ8cAWnmh8+Ovxi9S8edfWWyrYBHa7taTW0FLe3VSrfD3pUg77TG+Y0bm+0Hsed2liNMdqn0XiiHv3veyKGEzQsdfLmT5rxMf4n7XSixpj2sBUkOi8Xga9/jnmzXuHtS2Z823D+OJPkfYwAf3Zjvvixw9UXSry4lE8nDGLhcShMm0ihFNRcC7s/3UsB7UhINFxwixc2A03FUfglNbjBEy20Ajlx3/Gap3D6GU0B3VgIE6E2cvpKMxBKNlTLuUYqmfa0KCsFi66FM1SPMBE6sVBzrUIMDkONpRTVSl6oBVqBnvoeQYCaqyjbanBmY5AI7UhY9nINBRz2BC2Ztgxd3wqE5ISxroWKwnVyjV4qHPWExXHtJMKFkcN/W6EmSicncBGoVhRzpWI9/jjUXK7ZLJQVvmVTKzmEseA7WZ0NhvPGmR5pooCGV+LaK/Os+hZuGYJUI8Ddw5gb9yJKE97HiYBbUnzyqstyxUILlGy4tROx09F8uJ6vQrQVfLsZsLbk8NYlh0RnZdttzc3NgETGJwvpX/vxhke9apEKOBZ8vx9zbz/ls9fLA+cowM3NgOcXbN65XCZKs5WlzVD4cisiiMd3RNL/3R9teNS9XOOnvxLuPIz59DUvS4aSJfk790NcR/H+lUo27KSyzuSr3yJa4eTVrKnA9Q2XVT87FNqx4O5uwu0HMZ+/4VHpazgW/PCwx1EkXNsok+gsNrGGb34P2GnriS5fC7x3pcJLK/0YW/DrQcp3Wz2ub7hc7LeTbcGtRxEHgeaD9XJWNzLXfnsr5EErHST6UaJUeHetwlrDIdaZU99LNL/sJlxdcWl4+V/aq5ikbTi/nKnznkYnFva6eqrzthQ0fHvgWAGavcy5PTtXvPsfdTRzDgWnF2vYbqdTnbcC6r5NeagTeRxp2jE0/KLGdkfj2rDk5uWJhu1OOvXlrFJQn7MKDrETC62epuHbhRjsdTWWgotDrl9Lph1rmexYgbpv4Q5ptGPhINQ8N28Xkv5+oEkEVodiKGQx7KWTNQCe8Sz8Uv6JMIG9IKXhW4OnF4BmT4hTYWWknXa7mm4yWUNLplEtF588Yi2UbWXGtQ1PDf/b5G0wGAyGyZjFwQaDwTCDmORtMBgMM4hJ3gaDwTCDmORtMBgMM4hJ3gaDwTCDmORtMBgMM8jfhRgZtXiGeX0AAAAASUVORK5CYII=)"
      ],
      "metadata": {
        "id": "W_yMicFUejSp"
      },
      "id": "W_yMicFUejSp"
    },
    {
      "cell_type": "code",
      "source": [
        "def AC():\n",
        "    env = GridWorld()\n",
        "    actor = Actor(input_size=2,output_size=4,activation=torch.tanh)\n",
        "    critic = MLP(input_size=2,output_size=1,activation=torch.tanh)\n",
        "\n",
        "    print_interval = 100\n",
        "    score = 0.0\n",
        "    optimizer_actor = optim.Adam(actor.parameters(), lr=learning_rate)\n",
        "    optimizer_critic = optim.Adam(critic.parameters(), lr=learning_rate)\n",
        "\n",
        "    for n_epi in range(10000):\n",
        "        done = False\n",
        "        s = np.asarray(env.reset())\n",
        "\n",
        "        while not done:\n",
        "\n",
        "            a,pi,log_pi = actor(torch.Tensor(s))\n",
        "            v=critic(torch.Tensor(s))\n",
        "            a=a.item()\n",
        "            (x_prime, y_prime), reward, done = env.step(a)\n",
        "            s_prime =  np.array([x_prime, y_prime])\n",
        "            done_mask = 0.0 if done else 1.0\n",
        "            s = s_prime\n",
        "            score += reward\n",
        "\n",
        "            transition=[log_pi,v,reward,s_prime,done_mask]\n",
        "            train(transition, actor, critic, optimizer_actor, optimizer_critic)\n",
        "\n",
        "\n",
        "        if n_epi % 100 == 0 and n_epi != 0:\n",
        "            print(\"n_episode :{}, score : {:.1f}\".format(\n",
        "                n_epi, score / print_interval))\n",
        "            score = 0.0\n",
        "\n",
        "    # print policy\n",
        "    for r in range(4):\n",
        "        for c in range(4):\n",
        "            s = np.array([c, r])\n",
        "            _,pi,_ = actor(torch.from_numpy(s).float())\n",
        "            a=pi.argmax()\n",
        "            if c == 3 and r == 3:\n",
        "                str = 'G'\n",
        "            elif c == 0 and r == 3:\n",
        "                str = 'H'\n",
        "            elif c == 1 and r == 1:\n",
        "                str = 'H'\n",
        "            elif c == 3 and r == 1:\n",
        "                str = 'H'\n",
        "            elif c == 3 and r == 2:\n",
        "                str = 'H'\n",
        "            else:\n",
        "                if a == 0:\n",
        "                    str = '<'\n",
        "                elif a == 1:\n",
        "                    str = 'v'\n",
        "                elif a == 2:\n",
        "                    str = '>'\n",
        "                elif a == 3:\n",
        "                    str = '^'\n",
        "            print('%03s  '%str, end='')\n",
        "        print('')"
      ],
      "metadata": {
        "id": "fH44w85xyQ4f"
      },
      "id": "fH44w85xyQ4f",
      "execution_count": null,
      "outputs": []
    },
    {
      "cell_type": "markdown",
      "source": [
        "# Main"
      ],
      "metadata": {
        "id": "pmxp_nwqxKAq"
      },
      "id": "pmxp_nwqxKAq"
    },
    {
      "cell_type": "code",
      "source": [
        "if __name__ == '__main__':\n",
        "    AC()"
      ],
      "metadata": {
        "id": "cB2zq1OLxJ63"
      },
      "id": "cB2zq1OLxJ63",
      "execution_count": null,
      "outputs": []
    }
  ],
  "metadata": {
    "kernelspec": {
      "display_name": "Python 3",
      "language": "python",
      "name": "python3"
    },
    "language_info": {
      "codemirror_mode": {
        "name": "ipython",
        "version": 3
      },
      "file_extension": ".py",
      "mimetype": "text/x-python",
      "name": "python",
      "nbconvert_exporter": "python",
      "pygments_lexer": "ipython3",
      "version": "3.8.8"
    },
    "colab": {
      "name": "04.model_free_deep_AC.ipynb",
      "provenance": []
    }
  },
  "nbformat": 4,
  "nbformat_minor": 5
}