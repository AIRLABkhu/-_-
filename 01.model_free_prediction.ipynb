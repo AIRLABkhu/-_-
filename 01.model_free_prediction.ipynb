{
  "cells": [
    {
      "cell_type": "markdown",
      "id": "c931656b",
      "metadata": {
        "id": "c931656b"
      },
      "source": [
        "# 필수 라이브러리 설치"
      ]
    },
    {
      "cell_type": "code",
      "execution_count": null,
      "id": "1bfc3a3d",
      "metadata": {
        "id": "1bfc3a3d"
      },
      "outputs": [],
      "source": [
        "import random\n",
        "import numpy as np"
      ]
    },
    {
      "cell_type": "markdown",
      "id": "829adf61",
      "metadata": {
        "id": "829adf61"
      },
      "source": [
        "# Grid World"
      ]
    },
    {
      "cell_type": "code",
      "execution_count": null,
      "id": "10223069",
      "metadata": {
        "id": "10223069"
      },
      "outputs": [],
      "source": [
        "# model 설정\n",
        "# 4x4, state는 (x, y), H:hole, G:goal\n",
        "# reward: goal:1 이며 나머지는 0\n",
        "#\n",
        "#     0  1  2  3\n",
        "#     4  H  6  H\n",
        "#     8  9 10  H\n",
        "#     H 12 13  G\n",
        "#\n",
        "class GridWorld():\n",
        "    def __init__(self):\n",
        "        self.x = 0\n",
        "        self.y = 0\n",
        "\n",
        "    def step(self, a):\n",
        "        # 0번 액션: 왼쪽, 1번 액션: 위, 2번 액션: 오른쪽, 3번 액션: 아래쪽\n",
        "        if a == 0:\n",
        "            self.move_left()\n",
        "        elif a == 1:\n",
        "            self.move_down()\n",
        "        elif a == 2:\n",
        "            self.move_right()\n",
        "        elif a == 3:\n",
        "            self.move_up()\n",
        "\n",
        "        if self.x == 3 and self.y == 3:\n",
        "            reward = 1\n",
        "        else:\n",
        "            reward = 0\n",
        "\n",
        "        done = self.is_done()\n",
        "        return (self.x, self.y), reward, done\n",
        "\n",
        "    # 움직임 정의\n",
        "    def move_down(self):\n",
        "        self.y += 1\n",
        "        if self.y > 3:\n",
        "            self.y = 3\n",
        "\n",
        "    def move_up(self):\n",
        "        self.y -= 1\n",
        "        if self.y < 0:\n",
        "            self.y = 0\n",
        "\n",
        "    def move_left(self):\n",
        "        self.x -= 1\n",
        "        if self.x < 0:\n",
        "            self.x = 0\n",
        "\n",
        "    def move_right(self):\n",
        "        self.x += 1\n",
        "        if self.x > 3:\n",
        "            self.x = 3\n",
        "\n",
        "    def is_done(self):\n",
        "        if self.x == 3 and self.y == 3:\n",
        "            return True\n",
        "        elif self.x == 0 and self.y == 3:\n",
        "            return True\n",
        "        elif self.x == 1 and self.y == 1:\n",
        "            return True\n",
        "        elif self.x == 3 and self.y == 1:\n",
        "            return True\n",
        "        elif self.x == 3 and self.y == 2:\n",
        "            return True\n",
        "        else:\n",
        "            return False\n",
        "\n",
        "    def get_state(self):\n",
        "        return (self.x, self.y)\n",
        "\n",
        "    def reset(self):\n",
        "        self.x = 0\n",
        "        self.y = 0\n",
        "        return (self.x, self.y)"
      ]
    },
    {
      "cell_type": "markdown",
      "id": "f271578d",
      "metadata": {
        "id": "f271578d"
      },
      "source": [
        "# Agent"
      ]
    },
    {
      "cell_type": "code",
      "execution_count": null,
      "id": "c01695ed",
      "metadata": {
        "id": "c01695ed"
      },
      "outputs": [],
      "source": [
        "class Agent():\n",
        "    def __init__(self):\n",
        "        pass\n",
        "\n",
        "    def select_action(self):\n",
        "        coin = random.random()\n",
        "        if coin < 0.25:\n",
        "            action = 0\n",
        "        elif coin < 0.5:\n",
        "            action = 1\n",
        "        elif coin < 0.75:\n",
        "            action = 2\n",
        "        else:\n",
        "            action = 3\n",
        "        return action"
      ]
    },
    {
      "cell_type": "markdown",
      "id": "11a754c1",
      "metadata": {
        "id": "11a754c1"
      },
      "source": [
        "# Monte Carlo"
      ]
    },
    {
      "cell_type": "code",
      "execution_count": null,
      "id": "46e8d828",
      "metadata": {
        "id": "46e8d828"
      },
      "outputs": [],
      "source": [
        "def mc():\n",
        "    env = GridWorld()\n",
        "    agent = Agent()\n",
        "    V = [[0,0,0,0],[0,0,0,0],[0,0,0,0],[0,0,0,0]]\n",
        "    gamma = 1.0\n",
        "    alpha = 0.001\n",
        "\n",
        "    for k in range(50000):\n",
        "        done = False\n",
        "        history = []\n",
        "\n",
        "        while not done:\n",
        "            action = agent.select_action()\n",
        "            (x, y), reward, done = env.step(action)\n",
        "            history.append((x, y, reward))\n",
        "        env.reset()\n",
        "\n",
        "        cum_reward = 0\n",
        "        for transition in history[::-1]:\n",
        "            x, y, reward = transition\n",
        "            V[y][x] = V[y][x] + alpha * (cum_reward - V[y][x])\n",
        "            cum_reward = reward + gamma * cum_reward\n",
        "    print('MC prediction')\n",
        "    for row in range(len(V)):\n",
        "        for col in range(len(V[row])):\n",
        "            print('%4.4f '%V[row][col], end='   ')\n",
        "        print('')"
      ]
    },
    {
      "cell_type": "markdown",
      "id": "fe67a5e3",
      "metadata": {
        "id": "fe67a5e3"
      },
      "source": [
        "# Temporal Difference"
      ]
    },
    {
      "cell_type": "code",
      "execution_count": null,
      "id": "8d6d7465",
      "metadata": {
        "id": "8d6d7465"
      },
      "outputs": [],
      "source": [
        "def td():\n",
        "    # TD\n",
        "    env = GridWorld()\n",
        "    agent = Agent()\n",
        "    V = [[0, 0, 0, 0], [0, 0, 0, 0], [0, 0, 0, 0], [0, 0, 0, 0]]\n",
        "    gamma = 1.0\n",
        "    reward = -1\n",
        "    alpha = 0.01\n",
        "\n",
        "    for k in range(50000):\n",
        "        done = False\n",
        "        while not done:\n",
        "            x, y = env.get_state()\n",
        "            action = agent.select_action()\n",
        "            (x_prime, y_prime), reward, done = env.step(action)\n",
        "            x_prime, y_prime = env.get_state()\n",
        "            V[y][x] = V[y][x] + alpha * (reward + gamma * V[y_prime][x_prime] - V[y][x])\n",
        "        env.reset()\n",
        "\n",
        "    print('TD prediction')\n",
        "    for row in range(len(V)):\n",
        "        for col in range(len(V[row])):\n",
        "            print('%4.4f '%V[row][col], end='   ')\n",
        "        print('')"
      ]
    },
    {
      "cell_type": "markdown",
      "id": "49b1e28f",
      "metadata": {
        "id": "49b1e28f"
      },
      "source": [
        "# Main"
      ]
    },
    {
      "cell_type": "code",
      "execution_count": null,
      "id": "b78a9057",
      "metadata": {
        "id": "b78a9057"
      },
      "outputs": [],
      "source": [
        "if __name__ == '__main__':\n",
        "    mc()\n",
        "    td()"
      ]
    }
  ],
  "metadata": {
    "kernelspec": {
      "display_name": "Python 3",
      "language": "python",
      "name": "python3"
    },
    "language_info": {
      "codemirror_mode": {
        "name": "ipython",
        "version": 3
      },
      "file_extension": ".py",
      "mimetype": "text/x-python",
      "name": "python",
      "nbconvert_exporter": "python",
      "pygments_lexer": "ipython3",
      "version": "3.8.8"
    },
    "colab": {
      "name": "01.model_free_prediction.ipynb",
      "provenance": []
    }
  },
  "nbformat": 4,
  "nbformat_minor": 5
}